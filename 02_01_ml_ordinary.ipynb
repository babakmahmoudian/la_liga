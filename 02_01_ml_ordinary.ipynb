{
 "cells": [
  {
   "cell_type": "code",
   "execution_count": 2,
   "metadata": {},
   "outputs": [],
   "source": [
    "import pandas as pd\n",
    "import numpy as np\n",
    "import seaborn as sns\n",
    "import matplotlib.pyplot as plt\n",
    "\n",
    "%matplotlib inline"
   ]
  },
  {
   "cell_type": "code",
   "execution_count": 3,
   "metadata": {},
   "outputs": [],
   "source": [
    "hyper_param_tuning = {\n",
    "    'KNN': False,\n",
    "    'LR': False,\n",
    "    'RF': False,\n",
    "    'XGBoost': False,\n",
    "    'SVM': True,\n",
    "    'MLP': True,\n",
    "}"
   ]
  },
  {
   "attachments": {},
   "cell_type": "markdown",
   "metadata": {},
   "source": [
    "# Importing and preparing the dataset"
   ]
  },
  {
   "attachments": {},
   "cell_type": "markdown",
   "metadata": {},
   "source": [
    "The data is imported via the file output from preprocessing stage"
   ]
  },
  {
   "cell_type": "code",
   "execution_count": 4,
   "metadata": {},
   "outputs": [],
   "source": [
    "df = pd.read_csv(\"./dataset/05_cleaned.csv\")\n",
    "\n",
    "# Removing the columns regarding the first differance\n",
    "cols_to_remove = [col for col in df.columns if col[:3] == 'fd_']\n",
    "df = df.drop(cols_to_remove, axis='columns')\n",
    "\n",
    "# Setting the independent variables and the target class\n",
    "X = df.drop(['fulltime_result'], axis='columns')\n",
    "y = df['fulltime_result']"
   ]
  },
  {
   "attachments": {},
   "cell_type": "markdown",
   "metadata": {},
   "source": [
    "# Helper functions and utilities"
   ]
  },
  {
   "attachments": {},
   "cell_type": "markdown",
   "metadata": {},
   "source": [
    "## Preparing the comparison table"
   ]
  },
  {
   "attachments": {},
   "cell_type": "markdown",
   "metadata": {},
   "source": [
    "This table is filled with the measurements of performance of various models, and is later used to compare the models and choose the best one for the current dataset."
   ]
  },
  {
   "cell_type": "code",
   "execution_count": 5,
   "metadata": {},
   "outputs": [],
   "source": [
    "evaluation_df = pd.DataFrame(\n",
    "    columns=['Model',\n",
    "             'DataSet',\n",
    "             'Accuracy',\n",
    "             'Precision',\n",
    "             'Recall',\n",
    "             'f1-score',]\n",
    ")"
   ]
  },
  {
   "attachments": {},
   "cell_type": "markdown",
   "metadata": {},
   "source": [
    "## Initializing a pipeline"
   ]
  },
  {
   "attachments": {},
   "cell_type": "markdown",
   "metadata": {},
   "source": [
    "Here we create a pipeline with desired transformations and initialize it with the given estimator"
   ]
  },
  {
   "cell_type": "code",
   "execution_count": 6,
   "metadata": {},
   "outputs": [],
   "source": [
    "from sklearn.pipeline import Pipeline\n",
    "from sklearn.preprocessing import StandardScaler\n",
    "from sklearn.compose import ColumnTransformer\n",
    "\n",
    "def get_pipeline(model):\n",
    "    # Passing all the columns except 'is_home' through the scaler\n",
    "    cols_to_scale = [col for col in X.columns if col != 'is_home']\n",
    "\n",
    "    # Initializing the standard-scaler\n",
    "    col_transformer = ColumnTransformer(\n",
    "        [('scaler', StandardScaler(), cols_to_scale)],\n",
    "        remainder='passthrough')\n",
    "    \n",
    "    return Pipeline(\n",
    "        [\n",
    "            ('transformer', col_transformer),\n",
    "            ('estimator', model),\n",
    "        ]\n",
    "    )"
   ]
  },
  {
   "attachments": {},
   "cell_type": "markdown",
   "metadata": {},
   "source": [
    "## Executing a given algorithm"
   ]
  },
  {
   "attachments": {},
   "cell_type": "markdown",
   "metadata": {},
   "source": [
    "This is the main body of code responsible for training and testing the model. It performes the following tasks:\n",
    "\n",
    "<ol>\n",
    "<li>Receives a model with its hyperparameters as input</li>\n",
    "<li>Prepares a pipeline using the get_pipeline function</li>\n",
    "<li>Fits the pipeline to the training data and tests it against both the training and the validation data</li>\n",
    "<li>Returns the pipeline as output</li>\n",
    "</ol>"
   ]
  },
  {
   "cell_type": "code",
   "execution_count": 7,
   "metadata": {},
   "outputs": [],
   "source": [
    "from sklearn.model_selection import cross_validate\n",
    "import sklearn.metrics as metrics\n",
    "\n",
    "def execute_ml(model):\n",
    "    # Preparing a pipeline using the input model\n",
    "    pipeline = get_pipeline(model)\n",
    "\n",
    "    # Running a cross validation and fetching the performance measurements\n",
    "    cv = cross_validate(pipeline, X, y,\n",
    "                        cv=10,\n",
    "                        return_train_score=True,\n",
    "                        scoring=('accuracy',\n",
    "                                 'precision_macro',\n",
    "                                 'recall_macro',\n",
    "                                 'f1_macro'))\n",
    "    \n",
    "    # Calculating the mean of each score\n",
    "    cv_result = pd.DataFrame(cv).mean()\n",
    "    \n",
    "    # Presenting the mean performance scores categorized as 'train' and 'test'\n",
    "    for score_set in ['train', 'test']:\n",
    "        set_info = [type(model).__name__, score_set]\n",
    "        scores = list(\n",
    "            cv_result[[idx for idx in cv_result.index if score_set in idx]])\n",
    "        evaluation_df.loc[len(evaluation_df)] = set_info + scores"
   ]
  },
  {
   "attachments": {},
   "cell_type": "markdown",
   "metadata": {},
   "source": [
    "## Hyperparameter tuning"
   ]
  },
  {
   "cell_type": "code",
   "execution_count": 12,
   "metadata": {},
   "outputs": [],
   "source": [
    "from sklearn.model_selection import train_test_split\n",
    "from sklearn.model_selection import GridSearchCV\n",
    "\n",
    "def grid_search(model, hyper_params):\n",
    "    X_data, _, y_data, _ = train_test_split(\n",
    "        X, y, stratify=y, random_state=12, train_size=.4, test_size=.1)\n",
    "    \n",
    "    gs = GridSearchCV(\n",
    "        get_pipeline(model),\n",
    "        param_grid=hyper_params, \n",
    "        n_jobs=-1, \n",
    "        cv=3, \n",
    "        scoring='accuracy',\n",
    "        error_score=0,\n",
    "        return_train_score=True,\n",
    "        verbose=2,\n",
    "    )\n",
    "\n",
    "    res = gs.fit(X_data, y_data)\n",
    "\n",
    "    print(\"Maximum accuracy of %f was yielded using: %s\" % (res.best_score_, res.best_params_))"
   ]
  },
  {
   "attachments": {},
   "cell_type": "markdown",
   "metadata": {},
   "source": [
    "## Overfit analysis"
   ]
  },
  {
   "cell_type": "code",
   "execution_count": 9,
   "metadata": {},
   "outputs": [],
   "source": [
    "def overfit_analysis(model, param_name, values):\n",
    "    def draw_plot(results, index_col, cv_count):\n",
    "        train_cols = [f\"split{idx}_train_score\" for idx in range(cv_count)]\n",
    "        test_cols = [f\"split{idx}_test_score\" for idx in range(cv_count)]\n",
    "        replace_dict = dict.fromkeys(train_cols, 'Train Score')\n",
    "        replace_dict.update(dict.fromkeys(test_cols, 'Test Score'))\n",
    "\n",
    "        results = (results.melt(id_vars=[index_col], \n",
    "                                value_vars=train_cols+test_cols,\n",
    "                                var_name='score_type',\n",
    "                                value_name='score')\n",
    "                          .replace(replace_dict))\n",
    "\n",
    "        lp = sns.lineplot(data=results, \n",
    "                          x=index_col,\n",
    "                          y='score',\n",
    "                          hue='score_type',\n",
    "                          estimator=np.mean,\n",
    "                          legend='full', ) \n",
    "\n",
    "        lp.legend(title='Score Type',)\n",
    "\n",
    "        lp.set(\n",
    "            xlabel=index_col[17:],\n",
    "            ylabel='Score',\n",
    "            title='Overfit Analysis')\n",
    "    \n",
    "    X_data, _, y_data, _ = train_test_split(\n",
    "        X, y, stratify=y, random_state=12, train_size=.4, test_size=.1)\n",
    "    \n",
    "    cv_count = 3\n",
    "    gs = GridSearchCV(\n",
    "        get_pipeline(model),\n",
    "        param_grid={param_name:values}, \n",
    "        n_jobs=-1, \n",
    "        cv=cv_count, \n",
    "        scoring='accuracy',\n",
    "        error_score=0,\n",
    "        return_train_score=True,\n",
    "        verbose=2)\n",
    "\n",
    "    res = pd.DataFrame(data = gs.fit(X_data, y_data).cv_results_)\n",
    "\n",
    "    draw_plot(res, 'param_' + param_name, cv_count)"
   ]
  },
  {
   "attachments": {},
   "cell_type": "markdown",
   "metadata": {},
   "source": [
    "# Machine learning algorithms"
   ]
  },
  {
   "attachments": {},
   "cell_type": "markdown",
   "metadata": {},
   "source": [
    "Below, several different classification algorithms are implemented, executed, and the results are displayed for comparison within the evaluation table."
   ]
  },
  {
   "attachments": {},
   "cell_type": "markdown",
   "metadata": {},
   "source": [
    "## K-Nearest Neighbours"
   ]
  },
  {
   "attachments": {},
   "cell_type": "markdown",
   "metadata": {},
   "source": [
    "### Hyperparameter Tuning"
   ]
  },
  {
   "cell_type": "code",
   "execution_count": 10,
   "metadata": {},
   "outputs": [
    {
     "name": "stdout",
     "output_type": "stream",
     "text": [
      "Fitting 3 folds for each of 45 candidates, totalling 135 fits\n",
      "Maximum accuracy of 0.515805 was yielded using: {'estimator__metric': 'manhattan', 'estimator__n_neighbors': 19, 'estimator__weights': 'uniform'}\n"
     ]
    }
   ],
   "source": [
    "from sklearn.neighbors import KNeighborsClassifier\n",
    "\n",
    "hyper_params = {}\n",
    "hyper_params['estimator__n_neighbors'] = range(1, 31, 2)\n",
    "hyper_params['estimator__weights'] = ['uniform']\n",
    "hyper_params['estimator__metric'] = ['euclidean', 'manhattan', 'minkowski']\n",
    "\n",
    "if hyper_param_tuning['KNN']:\n",
    "    grid_search(KNeighborsClassifier(), hyper_params)"
   ]
  },
  {
   "attachments": {},
   "cell_type": "markdown",
   "metadata": {},
   "source": [
    "### Overfit analysis"
   ]
  },
  {
   "cell_type": "code",
   "execution_count": 13,
   "metadata": {},
   "outputs": [],
   "source": [
    "from sklearn.neighbors import KNeighborsClassifier\n",
    "\n",
    "if hyper_param_tuning['KNN']:\n",
    "    overfit_analysis(\n",
    "        KNeighborsClassifier(\n",
    "            metric='manhattan',\n",
    "            weights='uniform'),\n",
    "        'estimator__n_neighbors',\n",
    "        range(11, 31))"
   ]
  },
  {
   "attachments": {},
   "cell_type": "markdown",
   "metadata": {},
   "source": [
    "### Train and test"
   ]
  },
  {
   "cell_type": "code",
   "execution_count": 14,
   "metadata": {},
   "outputs": [],
   "source": [
    "from sklearn.neighbors import KNeighborsClassifier\n",
    "\n",
    "knn_clf = KNeighborsClassifier(\n",
    "    metric='manhattan',\n",
    "    n_neighbors=20,\n",
    "    weights='uniform')\n",
    "\n",
    "execute_ml(knn_clf)"
   ]
  },
  {
   "attachments": {},
   "cell_type": "markdown",
   "metadata": {},
   "source": [
    "## Logistic regression"
   ]
  },
  {
   "attachments": {},
   "cell_type": "markdown",
   "metadata": {},
   "source": [
    "### Hyperparameter Tuning"
   ]
  },
  {
   "cell_type": "code",
   "execution_count": 15,
   "metadata": {},
   "outputs": [
    {
     "name": "stdout",
     "output_type": "stream",
     "text": [
      "Fitting 3 folds for each of 140 candidates, totalling 420 fits\n",
      "Maximum accuracy of 0.567529 was yielded using: {'estimator__C': 0.1, 'estimator__max_iter': 1000, 'estimator__penalty': 'l1', 'estimator__solver': 'liblinear'}\n"
     ]
    },
    {
     "name": "stderr",
     "output_type": "stream",
     "text": [
      "c:\\Users\\Babak\\AppData\\Local\\Programs\\Python\\Python310\\lib\\site-packages\\sklearn\\model_selection\\_validation.py:378: FitFailedWarning: \n",
      "189 fits failed out of a total of 420.\n",
      "The score on these train-test partitions for these parameters will be set to 0.\n",
      "If these failures are not expected, you can try to debug them by setting error_score='raise'.\n",
      "\n",
      "Below are more details about the failures:\n",
      "--------------------------------------------------------------------------------\n",
      "21 fits failed with the following error:\n",
      "Traceback (most recent call last):\n",
      "  File \"c:\\Users\\Babak\\AppData\\Local\\Programs\\Python\\Python310\\lib\\site-packages\\sklearn\\model_selection\\_validation.py\", line 686, in _fit_and_score\n",
      "    estimator.fit(X_train, y_train, **fit_params)\n",
      "  File \"c:\\Users\\Babak\\AppData\\Local\\Programs\\Python\\Python310\\lib\\site-packages\\sklearn\\pipeline.py\", line 406, in fit\n",
      "    self._final_estimator.fit(Xt, y, **fit_params_last_step)\n",
      "  File \"c:\\Users\\Babak\\AppData\\Local\\Programs\\Python\\Python310\\lib\\site-packages\\sklearn\\linear_model\\_logistic.py\", line 1162, in fit\n",
      "    solver = _check_solver(self.solver, self.penalty, self.dual)\n",
      "  File \"c:\\Users\\Babak\\AppData\\Local\\Programs\\Python\\Python310\\lib\\site-packages\\sklearn\\linear_model\\_logistic.py\", line 71, in _check_solver\n",
      "    raise ValueError(\"penalty='none' is not supported for the liblinear solver\")\n",
      "ValueError: penalty='none' is not supported for the liblinear solver\n",
      "\n",
      "--------------------------------------------------------------------------------\n",
      "21 fits failed with the following error:\n",
      "Traceback (most recent call last):\n",
      "  File \"c:\\Users\\Babak\\AppData\\Local\\Programs\\Python\\Python310\\lib\\site-packages\\sklearn\\model_selection\\_validation.py\", line 686, in _fit_and_score\n",
      "    estimator.fit(X_train, y_train, **fit_params)\n",
      "  File \"c:\\Users\\Babak\\AppData\\Local\\Programs\\Python\\Python310\\lib\\site-packages\\sklearn\\pipeline.py\", line 406, in fit\n",
      "    self._final_estimator.fit(Xt, y, **fit_params_last_step)\n",
      "  File \"c:\\Users\\Babak\\AppData\\Local\\Programs\\Python\\Python310\\lib\\site-packages\\sklearn\\linear_model\\_logistic.py\", line 1162, in fit\n",
      "    solver = _check_solver(self.solver, self.penalty, self.dual)\n",
      "  File \"c:\\Users\\Babak\\AppData\\Local\\Programs\\Python\\Python310\\lib\\site-packages\\sklearn\\linear_model\\_logistic.py\", line 54, in _check_solver\n",
      "    raise ValueError(\n",
      "ValueError: Solver newton-cg supports only 'l2' or 'none' penalties, got l1 penalty.\n",
      "\n",
      "--------------------------------------------------------------------------------\n",
      "21 fits failed with the following error:\n",
      "Traceback (most recent call last):\n",
      "  File \"c:\\Users\\Babak\\AppData\\Local\\Programs\\Python\\Python310\\lib\\site-packages\\sklearn\\model_selection\\_validation.py\", line 686, in _fit_and_score\n",
      "    estimator.fit(X_train, y_train, **fit_params)\n",
      "  File \"c:\\Users\\Babak\\AppData\\Local\\Programs\\Python\\Python310\\lib\\site-packages\\sklearn\\pipeline.py\", line 406, in fit\n",
      "    self._final_estimator.fit(Xt, y, **fit_params_last_step)\n",
      "  File \"c:\\Users\\Babak\\AppData\\Local\\Programs\\Python\\Python310\\lib\\site-packages\\sklearn\\linear_model\\_logistic.py\", line 1162, in fit\n",
      "    solver = _check_solver(self.solver, self.penalty, self.dual)\n",
      "  File \"c:\\Users\\Babak\\AppData\\Local\\Programs\\Python\\Python310\\lib\\site-packages\\sklearn\\linear_model\\_logistic.py\", line 54, in _check_solver\n",
      "    raise ValueError(\n",
      "ValueError: Solver lbfgs supports only 'l2' or 'none' penalties, got l1 penalty.\n",
      "\n",
      "--------------------------------------------------------------------------------\n",
      "21 fits failed with the following error:\n",
      "Traceback (most recent call last):\n",
      "  File \"c:\\Users\\Babak\\AppData\\Local\\Programs\\Python\\Python310\\lib\\site-packages\\sklearn\\model_selection\\_validation.py\", line 686, in _fit_and_score\n",
      "    estimator.fit(X_train, y_train, **fit_params)\n",
      "  File \"c:\\Users\\Babak\\AppData\\Local\\Programs\\Python\\Python310\\lib\\site-packages\\sklearn\\pipeline.py\", line 406, in fit\n",
      "    self._final_estimator.fit(Xt, y, **fit_params_last_step)\n",
      "  File \"c:\\Users\\Babak\\AppData\\Local\\Programs\\Python\\Python310\\lib\\site-packages\\sklearn\\linear_model\\_logistic.py\", line 1162, in fit\n",
      "    solver = _check_solver(self.solver, self.penalty, self.dual)\n",
      "  File \"c:\\Users\\Babak\\AppData\\Local\\Programs\\Python\\Python310\\lib\\site-packages\\sklearn\\linear_model\\_logistic.py\", line 54, in _check_solver\n",
      "    raise ValueError(\n",
      "ValueError: Solver sag supports only 'l2' or 'none' penalties, got l1 penalty.\n",
      "\n",
      "--------------------------------------------------------------------------------\n",
      "21 fits failed with the following error:\n",
      "Traceback (most recent call last):\n",
      "  File \"c:\\Users\\Babak\\AppData\\Local\\Programs\\Python\\Python310\\lib\\site-packages\\sklearn\\model_selection\\_validation.py\", line 686, in _fit_and_score\n",
      "    estimator.fit(X_train, y_train, **fit_params)\n",
      "  File \"c:\\Users\\Babak\\AppData\\Local\\Programs\\Python\\Python310\\lib\\site-packages\\sklearn\\pipeline.py\", line 406, in fit\n",
      "    self._final_estimator.fit(Xt, y, **fit_params_last_step)\n",
      "  File \"c:\\Users\\Babak\\AppData\\Local\\Programs\\Python\\Python310\\lib\\site-packages\\sklearn\\linear_model\\_logistic.py\", line 1162, in fit\n",
      "    solver = _check_solver(self.solver, self.penalty, self.dual)\n",
      "  File \"c:\\Users\\Babak\\AppData\\Local\\Programs\\Python\\Python310\\lib\\site-packages\\sklearn\\linear_model\\_logistic.py\", line 54, in _check_solver\n",
      "    raise ValueError(\n",
      "ValueError: Solver newton-cg supports only 'l2' or 'none' penalties, got elasticnet penalty.\n",
      "\n",
      "--------------------------------------------------------------------------------\n",
      "21 fits failed with the following error:\n",
      "Traceback (most recent call last):\n",
      "  File \"c:\\Users\\Babak\\AppData\\Local\\Programs\\Python\\Python310\\lib\\site-packages\\sklearn\\model_selection\\_validation.py\", line 686, in _fit_and_score\n",
      "    estimator.fit(X_train, y_train, **fit_params)\n",
      "  File \"c:\\Users\\Babak\\AppData\\Local\\Programs\\Python\\Python310\\lib\\site-packages\\sklearn\\pipeline.py\", line 406, in fit\n",
      "    self._final_estimator.fit(Xt, y, **fit_params_last_step)\n",
      "  File \"c:\\Users\\Babak\\AppData\\Local\\Programs\\Python\\Python310\\lib\\site-packages\\sklearn\\linear_model\\_logistic.py\", line 1162, in fit\n",
      "    solver = _check_solver(self.solver, self.penalty, self.dual)\n",
      "  File \"c:\\Users\\Babak\\AppData\\Local\\Programs\\Python\\Python310\\lib\\site-packages\\sklearn\\linear_model\\_logistic.py\", line 54, in _check_solver\n",
      "    raise ValueError(\n",
      "ValueError: Solver lbfgs supports only 'l2' or 'none' penalties, got elasticnet penalty.\n",
      "\n",
      "--------------------------------------------------------------------------------\n",
      "21 fits failed with the following error:\n",
      "Traceback (most recent call last):\n",
      "  File \"c:\\Users\\Babak\\AppData\\Local\\Programs\\Python\\Python310\\lib\\site-packages\\sklearn\\model_selection\\_validation.py\", line 686, in _fit_and_score\n",
      "    estimator.fit(X_train, y_train, **fit_params)\n",
      "  File \"c:\\Users\\Babak\\AppData\\Local\\Programs\\Python\\Python310\\lib\\site-packages\\sklearn\\pipeline.py\", line 406, in fit\n",
      "    self._final_estimator.fit(Xt, y, **fit_params_last_step)\n",
      "  File \"c:\\Users\\Babak\\AppData\\Local\\Programs\\Python\\Python310\\lib\\site-packages\\sklearn\\linear_model\\_logistic.py\", line 1162, in fit\n",
      "    solver = _check_solver(self.solver, self.penalty, self.dual)\n",
      "  File \"c:\\Users\\Babak\\AppData\\Local\\Programs\\Python\\Python310\\lib\\site-packages\\sklearn\\linear_model\\_logistic.py\", line 64, in _check_solver\n",
      "    raise ValueError(\n",
      "ValueError: Only 'saga' solver supports elasticnet penalty, got solver=liblinear.\n",
      "\n",
      "--------------------------------------------------------------------------------\n",
      "21 fits failed with the following error:\n",
      "Traceback (most recent call last):\n",
      "  File \"c:\\Users\\Babak\\AppData\\Local\\Programs\\Python\\Python310\\lib\\site-packages\\sklearn\\model_selection\\_validation.py\", line 686, in _fit_and_score\n",
      "    estimator.fit(X_train, y_train, **fit_params)\n",
      "  File \"c:\\Users\\Babak\\AppData\\Local\\Programs\\Python\\Python310\\lib\\site-packages\\sklearn\\pipeline.py\", line 406, in fit\n",
      "    self._final_estimator.fit(Xt, y, **fit_params_last_step)\n",
      "  File \"c:\\Users\\Babak\\AppData\\Local\\Programs\\Python\\Python310\\lib\\site-packages\\sklearn\\linear_model\\_logistic.py\", line 1162, in fit\n",
      "    solver = _check_solver(self.solver, self.penalty, self.dual)\n",
      "  File \"c:\\Users\\Babak\\AppData\\Local\\Programs\\Python\\Python310\\lib\\site-packages\\sklearn\\linear_model\\_logistic.py\", line 54, in _check_solver\n",
      "    raise ValueError(\n",
      "ValueError: Solver sag supports only 'l2' or 'none' penalties, got elasticnet penalty.\n",
      "\n",
      "--------------------------------------------------------------------------------\n",
      "21 fits failed with the following error:\n",
      "Traceback (most recent call last):\n",
      "  File \"c:\\Users\\Babak\\AppData\\Local\\Programs\\Python\\Python310\\lib\\site-packages\\sklearn\\model_selection\\_validation.py\", line 686, in _fit_and_score\n",
      "    estimator.fit(X_train, y_train, **fit_params)\n",
      "  File \"c:\\Users\\Babak\\AppData\\Local\\Programs\\Python\\Python310\\lib\\site-packages\\sklearn\\pipeline.py\", line 406, in fit\n",
      "    self._final_estimator.fit(Xt, y, **fit_params_last_step)\n",
      "  File \"c:\\Users\\Babak\\AppData\\Local\\Programs\\Python\\Python310\\lib\\site-packages\\sklearn\\linear_model\\_logistic.py\", line 1291, in fit\n",
      "    fold_coefs_ = Parallel(n_jobs=self.n_jobs, verbose=self.verbose, prefer=prefer)(\n",
      "  File \"c:\\Users\\Babak\\AppData\\Local\\Programs\\Python\\Python310\\lib\\site-packages\\joblib\\parallel.py\", line 1085, in __call__\n",
      "    if self.dispatch_one_batch(iterator):\n",
      "  File \"c:\\Users\\Babak\\AppData\\Local\\Programs\\Python\\Python310\\lib\\site-packages\\joblib\\parallel.py\", line 901, in dispatch_one_batch\n",
      "    self._dispatch(tasks)\n",
      "  File \"c:\\Users\\Babak\\AppData\\Local\\Programs\\Python\\Python310\\lib\\site-packages\\joblib\\parallel.py\", line 819, in _dispatch\n",
      "    job = self._backend.apply_async(batch, callback=cb)\n",
      "  File \"c:\\Users\\Babak\\AppData\\Local\\Programs\\Python\\Python310\\lib\\site-packages\\joblib\\_parallel_backends.py\", line 208, in apply_async\n",
      "    result = ImmediateResult(func)\n",
      "  File \"c:\\Users\\Babak\\AppData\\Local\\Programs\\Python\\Python310\\lib\\site-packages\\joblib\\_parallel_backends.py\", line 597, in __init__\n",
      "    self.results = batch()\n",
      "  File \"c:\\Users\\Babak\\AppData\\Local\\Programs\\Python\\Python310\\lib\\site-packages\\joblib\\parallel.py\", line 288, in __call__\n",
      "    return [func(*args, **kwargs)\n",
      "  File \"c:\\Users\\Babak\\AppData\\Local\\Programs\\Python\\Python310\\lib\\site-packages\\joblib\\parallel.py\", line 288, in <listcomp>\n",
      "    return [func(*args, **kwargs)\n",
      "  File \"c:\\Users\\Babak\\AppData\\Local\\Programs\\Python\\Python310\\lib\\site-packages\\sklearn\\utils\\fixes.py\", line 117, in __call__\n",
      "    return self.function(*args, **kwargs)\n",
      "  File \"c:\\Users\\Babak\\AppData\\Local\\Programs\\Python\\Python310\\lib\\site-packages\\sklearn\\linear_model\\_logistic.py\", line 521, in _logistic_regression_path\n",
      "    alpha = (1.0 / C) * (1 - l1_ratio)\n",
      "TypeError: unsupported operand type(s) for -: 'int' and 'NoneType'\n",
      "\n",
      "  warnings.warn(some_fits_failed_message, FitFailedWarning)\n"
     ]
    }
   ],
   "source": [
    "from sklearn.linear_model import LogisticRegression\n",
    "\n",
    "hyper_params = {}\n",
    "hyper_params['estimator__max_iter'] = [1000]\n",
    "hyper_params['estimator__C'] = np.logspace(-3, 3, 7, endpoint=True)\n",
    "hyper_params['estimator__solver'] = ['newton-cg', 'lbfgs', 'liblinear', 'sag', 'saga']\n",
    "hyper_params['estimator__penalty'] = ['none', 'l1', 'l2', 'elasticnet']\n",
    "\n",
    "if hyper_param_tuning['LR']:\n",
    "    grid_search(LogisticRegression(), hyper_params)"
   ]
  },
  {
   "attachments": {},
   "cell_type": "markdown",
   "metadata": {},
   "source": [
    "### Train and test"
   ]
  },
  {
   "cell_type": "code",
   "execution_count": 16,
   "metadata": {},
   "outputs": [],
   "source": [
    "from sklearn.linear_model import LogisticRegression\n",
    "\n",
    "lr_clf = LogisticRegression(\n",
    "    C=.1,\n",
    "    max_iter=1000,\n",
    "    penalty='l1',\n",
    "    solver='liblinear')\n",
    "\n",
    "execute_ml(lr_clf)"
   ]
  },
  {
   "attachments": {},
   "cell_type": "markdown",
   "metadata": {},
   "source": [
    "## Random forest"
   ]
  },
  {
   "attachments": {},
   "cell_type": "markdown",
   "metadata": {},
   "source": [
    "### Hyperparameter Tuning"
   ]
  },
  {
   "cell_type": "code",
   "execution_count": 17,
   "metadata": {},
   "outputs": [
    {
     "name": "stdout",
     "output_type": "stream",
     "text": [
      "Fitting 3 folds for each of 8 candidates, totalling 24 fits\n",
      "Maximum accuracy of 0.584052 was yielded using: {'estimator__bootstrap': False, 'estimator__criterion': 'entropy', 'estimator__max_features': 'sqrt'}\n"
     ]
    }
   ],
   "source": [
    "from sklearn.ensemble import RandomForestClassifier\n",
    "\n",
    "hyper_params = {}\n",
    "hyper_params['estimator__bootstrap']= [True, False]\n",
    "hyper_params['estimator__max_features'] = ['sqrt', 'log2']\n",
    "hyper_params['estimator__criterion'] = ['gini', 'entropy']\n",
    "\n",
    "if hyper_param_tuning['RF']:\n",
    "    grid_search(RandomForestClassifier(), hyper_params)"
   ]
  },
  {
   "attachments": {},
   "cell_type": "markdown",
   "metadata": {},
   "source": [
    "### Overfit analysis"
   ]
  },
  {
   "cell_type": "code",
   "execution_count": 19,
   "metadata": {},
   "outputs": [
    {
     "name": "stdout",
     "output_type": "stream",
     "text": [
      "Fitting 3 folds for each of 30 candidates, totalling 90 fits\n"
     ]
    },
    {
     "data": {
      "image/png": "[encoded data removed]",
      "text/plain": [
       "<Figure size 640x480 with 1 Axes>"
      ]
     },
     "metadata": {},
     "output_type": "display_data"
    }
   ],
   "source": [
    "from sklearn.ensemble import RandomForestClassifier\n",
    "\n",
    "values_range = range(1,31)\n",
    "\n",
    "if hyper_param_tuning['RF']:\n",
    "    overfit_analysis(\n",
    "        RandomForestClassifier(\n",
    "            bootstrap=False,\n",
    "            criterion='entropy',\n",
    "            max_features='sqrt',),\n",
    "        'estimator__min_samples_leaf',\n",
    "        values_range)"
   ]
  },
  {
   "attachments": {},
   "cell_type": "markdown",
   "metadata": {},
   "source": [
    "### Train and test"
   ]
  },
  {
   "cell_type": "code",
   "execution_count": 20,
   "metadata": {},
   "outputs": [],
   "source": [
    "from sklearn.ensemble import RandomForestClassifier\n",
    "\n",
    "rf_clf = RandomForestClassifier(\n",
    "    bootstrap=False,\n",
    "    criterion='entropy',\n",
    "    max_features='sqrt',\n",
    "    min_samples_leaf=22)\n",
    "\n",
    "execute_ml(rf_clf)"
   ]
  },
  {
   "attachments": {},
   "cell_type": "markdown",
   "metadata": {},
   "source": [
    "## XGBoost classifier"
   ]
  },
  {
   "attachments": {},
   "cell_type": "markdown",
   "metadata": {},
   "source": [
    "### Hyperparameter Tuning"
   ]
  },
  {
   "cell_type": "code",
   "execution_count": 21,
   "metadata": {},
   "outputs": [
    {
     "name": "stdout",
     "output_type": "stream",
     "text": [
      "Fitting 3 folds for each of 80 candidates, totalling 240 fits\n",
      "Maximum accuracy of 0.589080 was yielded using: {'estimator__learning_rate': 0.1, 'estimator__max_depth': 9, 'estimator__n_estimators': 500}\n"
     ]
    }
   ],
   "source": [
    "from xgboost import XGBClassifier\n",
    "\n",
    "hyper_params = {}\n",
    "hyper_params['estimator__learning_rate'] = list(\n",
    "    np.logspace(-3, 0, 4, endpoint=True))\n",
    "hyper_params['estimator__n_estimators'] = [10, 100, 500, 1000]\n",
    "hyper_params['estimator__max_depth'] = list(range(1, 11, 2))\n",
    "\n",
    "if hyper_param_tuning['XGBoost']:\n",
    "    grid_search(XGBClassifier(), hyper_params)"
   ]
  },
  {
   "attachments": {},
   "cell_type": "markdown",
   "metadata": {},
   "source": [
    "### Overfit analysis"
   ]
  },
  {
   "cell_type": "code",
   "execution_count": 24,
   "metadata": {},
   "outputs": [
    {
     "name": "stdout",
     "output_type": "stream",
     "text": [
      "Fitting 3 folds for each of 19 candidates, totalling 57 fits\n"
     ]
    },
    {
     "data": {
      "image/png": "[encoded data removed]",
      "text/plain": [
       "<Figure size 640x480 with 1 Axes>"
      ]
     },
     "metadata": {},
     "output_type": "display_data"
    }
   ],
   "source": [
    "from xgboost import XGBClassifier\n",
    "\n",
    "if hyper_param_tuning['XGBoost']:\n",
    "    overfit_analysis(\n",
    "        XGBClassifier(\n",
    "            learning_rate=0.1,\n",
    "            max_depth=9,\n",
    "            n_estimators=500,),\n",
    "        'estimator__subsample',\n",
    "        np.arange(.001, .02, .001))"
   ]
  },
  {
   "attachments": {},
   "cell_type": "markdown",
   "metadata": {},
   "source": [
    "### Train and test"
   ]
  },
  {
   "cell_type": "code",
   "execution_count": 25,
   "metadata": {},
   "outputs": [],
   "source": [
    "from xgboost import XGBClassifier\n",
    "\n",
    "xgboost_clf = XGBClassifier(\n",
    "    learning_rate=0.1,\n",
    "    max_depth=9,\n",
    "    n_estimators=500,\n",
    "    subsample=.01)\n",
    "\n",
    "execute_ml(xgboost_clf)"
   ]
  },
  {
   "attachments": {},
   "cell_type": "markdown",
   "metadata": {},
   "source": [
    "## Support Vector Machine classifier"
   ]
  },
  {
   "attachments": {},
   "cell_type": "markdown",
   "metadata": {},
   "source": [
    "### Hyperparameter Tuning"
   ]
  },
  {
   "cell_type": "code",
   "execution_count": 36,
   "metadata": {},
   "outputs": [
    {
     "name": "stdout",
     "output_type": "stream",
     "text": [
      "Fitting 3 folds for each of 200 candidates, totalling 600 fits\n"
     ]
    }
   ],
   "source": [
    "from sklearn import svm\n",
    "\n",
    "hyper_params = {}\n",
    "hyper_params['estimator__C']=(list(np.logspace(-1, 3, 5)) +\n",
    "                              list(range(5000, 10000, 1000)))\n",
    "hyper_params['estimator__gamma']=list(np.logspace(-4, 0, 5))\n",
    "hyper_params['estimator__kernel'] = ['linear', 'poly', 'sigmoid', 'rbf']\n",
    "\n",
    "if hyper_param_tuning['SVM']:\n",
    "    grid_search(svm.SVC(), hyper_params) "
   ]
  },
  {
   "attachments": {},
   "cell_type": "markdown",
   "metadata": {},
   "source": [
    "### Overfit analysis"
   ]
  },
  {
   "cell_type": "code",
   "execution_count": null,
   "metadata": {},
   "outputs": [],
   "source": [
    "from sklearn import svm\n",
    "\n",
    "if hyper_param_tuning['SVM']:\n",
    "    overfit_analysis(\n",
    "        svm.SVC(\n",
    "            gamma=0.01,\n",
    "            kernel='rbf'),\n",
    "        'estimator__C',\n",
    "        range(5000, 15000, 1000))"
   ]
  },
  {
   "attachments": {},
   "cell_type": "markdown",
   "metadata": {},
   "source": [
    "### Train and test"
   ]
  },
  {
   "cell_type": "code",
   "execution_count": null,
   "metadata": {},
   "outputs": [],
   "source": [
    "from sklearn import svm\n",
    "\n",
    "svm_clf = svm.SVC(\n",
    "    C=5000,\n",
    "    gamma=0.01,\n",
    "    kernel='rbf')\n",
    "\n",
    "execute_ml(svm_clf)"
   ]
  },
  {
   "attachments": {},
   "cell_type": "markdown",
   "metadata": {},
   "source": [
    "## Multilayer perceptron"
   ]
  },
  {
   "attachments": {},
   "cell_type": "markdown",
   "metadata": {},
   "source": [
    "### Hyperparameter Tuning"
   ]
  },
  {
   "cell_type": "code",
   "execution_count": null,
   "metadata": {},
   "outputs": [],
   "source": [
    "from sklearn.neural_network import MLPClassifier\n",
    "\n",
    "hyper_params = {}\n",
    "hyper_params['estimator__hidden_layer_sizes']=[\n",
    "    (100,), (50,), (25,),\n",
    "    (50,25),(100,50),\n",
    "    (100,50,25),\n",
    "    (100,50,25, 12),\n",
    "]\n",
    "hyper_params['estimator__max_iter']=[1500]\n",
    "hyper_params['estimator__random_state'] = [12]\n",
    "hyper_params['estimator__activation']=['tanh', 'relu', 'logistic']\n",
    "hyper_params['estimator__solver']=['sgd', 'adam', 'lbfgs']\n",
    "hyper_params['estimator__learning_rate']=['constant','adaptive','invscaling']\n",
    "\n",
    "if hyper_param_tuning['MLP']:\n",
    "    grid_search(MLPClassifier(), hyper_params)"
   ]
  },
  {
   "attachments": {},
   "cell_type": "markdown",
   "metadata": {},
   "source": [
    "### Overfit analysis"
   ]
  },
  {
   "cell_type": "code",
   "execution_count": null,
   "metadata": {},
   "outputs": [],
   "source": [
    "from sklearn.neural_network import MLPClassifier\n",
    "\n",
    "values_range = np.linspace(0,.1,11)\n",
    "\n",
    "if hyper_param_tuning['MLP']:\n",
    "    overfit_analysis(\n",
    "        MLPClassifier(\n",
    "            activation='tanh',\n",
    "            hidden_layer_sizes=(100, 50, 25),\n",
    "            learning_rate='constant',\n",
    "            max_iter=1500,\n",
    "            random_state=12,\n",
    "            solver='adam'),\n",
    "        'estimator__alpha',\n",
    "        values_range)"
   ]
  },
  {
   "attachments": {},
   "cell_type": "markdown",
   "metadata": {},
   "source": [
    "### Train and test"
   ]
  },
  {
   "cell_type": "code",
   "execution_count": null,
   "metadata": {},
   "outputs": [],
   "source": [
    "from sklearn.neural_network import MLPClassifier\n",
    "\n",
    "mlp_clf = MLPClassifier(\n",
    "    activation='tanh',\n",
    "    hidden_layer_sizes=(100, 50, 25),\n",
    "    learning_rate='adaptive',\n",
    "    max_iter=1500,\n",
    "    random_state=12,\n",
    "    solver='adam',\n",
    "    alpha=.09)\n",
    "\n",
    "execute_ml(mlp_clf)"
   ]
  },
  {
   "attachments": {},
   "cell_type": "markdown",
   "metadata": {},
   "source": [
    "### Learning rate"
   ]
  },
  {
   "cell_type": "code",
   "execution_count": null,
   "metadata": {},
   "outputs": [],
   "source": [
    "from sklearn.model_selection import learning_curve\n",
    "\n",
    "train_sizes, train_scores, test_scores = learning_curve(\n",
    "    mlp_clf, X, y,\n",
    "    cv=3,\n",
    "    n_jobs=-1,\n",
    "    random_state=12,)\n",
    "\n",
    "data = {\n",
    "    'train_size': list(train_sizes),\n",
    "    'train_accuracy': [cv.mean() for cv in train_scores],\n",
    "    'test_accuracy': [cv.mean() for cv in test_scores],\n",
    "}\n",
    "data_df = pd.melt(pd.DataFrame(data), \n",
    "                  id_vars='train_size', \n",
    "                  value_vars=['train_accuracy', 'test_accuracy'],\n",
    "                  var_name='Measurement',\n",
    "                  value_name='Percentage')\n",
    "\n",
    "sns.lineplot(data=data_df, x='train_size', y='Percentage', hue='Measurement');"
   ]
  },
  {
   "attachments": {},
   "cell_type": "markdown",
   "metadata": {},
   "source": [
    "# Evaluation"
   ]
  },
  {
   "cell_type": "code",
   "execution_count": null,
   "metadata": {},
   "outputs": [],
   "source": [
    "from IPython.display import display\n",
    "with pd.option_context('display.max_rows', None, 'display.max_columns', None):\n",
    "    display(evaluation_df) "
   ]
  },
  {
   "cell_type": "code",
   "execution_count": null,
   "metadata": {},
   "outputs": [],
   "source": [
    "sns.barplot(data=evaluation_df, x='Model', y='Accuracy', hue='DataSet')\n",
    "plt.xticks(rotation=45);"
   ]
  },
  {
   "attachments": {},
   "cell_type": "markdown",
   "metadata": {},
   "source": [
    "# Selecting the optimal model"
   ]
  },
  {
   "cell_type": "code",
   "execution_count": null,
   "metadata": {},
   "outputs": [],
   "source": [
    "# Selecting the model with the best performance\n",
    "pipeline = get_pipeline(mlp_clf)\n",
    "\n",
    "# Training the selected model with all of the data (including the test set)\n",
    "pipeline.fit(X, y)"
   ]
  },
  {
   "attachments": {},
   "cell_type": "markdown",
   "metadata": {},
   "source": [
    "# Exporting the trained model"
   ]
  },
  {
   "attachments": {},
   "cell_type": "markdown",
   "metadata": {},
   "source": [
    "In order to avoid training the model each time a prediction is needed, the trained model is saved into a file and from then on, for each prediction, the already trained model is loaded from the file and used."
   ]
  },
  {
   "cell_type": "code",
   "execution_count": null,
   "metadata": {},
   "outputs": [],
   "source": [
    "import joblib\n",
    "\n",
    "# Saving the trained model into a file\n",
    "joblib.dump(pipeline, \"./trained_models/model_ordinary.joblib\")"
   ]
  }
 ],
 "metadata": {
  "kernelspec": {
   "display_name": "Python 3",
   "language": "python",
   "name": "python3"
  },
  "language_info": {
   "codemirror_mode": {
    "name": "ipython",
    "version": 3
   },
   "file_extension": ".py",
   "mimetype": "text/x-python",
   "name": "python",
   "nbconvert_exporter": "python",
   "pygments_lexer": "ipython3",
   "version": "3.10.9"
  },
  "orig_nbformat": 4
 },
 "nbformat": 4,
 "nbformat_minor": 2
}
