{
 "cells": [
  {
   "cell_type": "code",
   "execution_count": 17,
   "metadata": {},
   "outputs": [],
   "source": [
    "import pandas as pd\n",
    "import numpy as np\n",
    "import seaborn as sns\n",
    "import matplotlib.pyplot as plt\n",
    "\n",
    "%matplotlib inline"
   ]
  },
  {
   "cell_type": "code",
   "execution_count": 49,
   "metadata": {},
   "outputs": [],
   "source": [
    "hyper_param_tuning = {\n",
    "    'KNN': False,\n",
    "    'LR': False,\n",
    "    'RF': False,\n",
    "    'XGBoost': False,\n",
    "    'SVM': False,\n",
    "    'MLP': True,\n",
    "}"
   ]
  },
  {
   "attachments": {},
   "cell_type": "markdown",
   "metadata": {},
   "source": [
    "# Importing and preparing the dataset"
   ]
  },
  {
   "attachments": {},
   "cell_type": "markdown",
   "metadata": {},
   "source": [
    "The data is imported via the file output from preprocessing stage"
   ]
  },
  {
   "cell_type": "code",
   "execution_count": 19,
   "metadata": {},
   "outputs": [],
   "source": [
    "df = pd.read_csv(\"./dataset/05_cleaned.csv\")\n",
    "\n",
    "# Removing the columns regarding the first differance\n",
    "cols_to_remove = [col for col in df.columns if col[:3] == 'fd_']\n",
    "df = df.drop(cols_to_remove, axis='columns')\n",
    "\n",
    "# Setting the independent variables and the target class\n",
    "X = df.drop(['fulltime_result'], axis='columns')\n",
    "y = df['fulltime_result']"
   ]
  },
  {
   "attachments": {},
   "cell_type": "markdown",
   "metadata": {},
   "source": [
    "# Helper functions and utilities"
   ]
  },
  {
   "attachments": {},
   "cell_type": "markdown",
   "metadata": {},
   "source": [
    "## Preparing the comparison table"
   ]
  },
  {
   "attachments": {},
   "cell_type": "markdown",
   "metadata": {},
   "source": [
    "This table is filled with the measurements of performance of various models, and is later used to compare the models and choose the best one for the current dataset."
   ]
  },
  {
   "cell_type": "code",
   "execution_count": 20,
   "metadata": {},
   "outputs": [],
   "source": [
    "evaluation_df = pd.DataFrame(\n",
    "    columns=['Model',\n",
    "             'DataSet',\n",
    "             'Accuracy',\n",
    "             'Precision',\n",
    "             'Recall',\n",
    "             'f1-score',]\n",
    ")"
   ]
  },
  {
   "attachments": {},
   "cell_type": "markdown",
   "metadata": {},
   "source": [
    "## Initializing a pipeline"
   ]
  },
  {
   "attachments": {},
   "cell_type": "markdown",
   "metadata": {},
   "source": [
    "Here we create a pipeline with desired transformations and initialize it with the given estimator"
   ]
  },
  {
   "cell_type": "code",
   "execution_count": 21,
   "metadata": {},
   "outputs": [],
   "source": [
    "from sklearn.pipeline import Pipeline\n",
    "from sklearn.preprocessing import StandardScaler\n",
    "from sklearn.compose import ColumnTransformer\n",
    "\n",
    "def get_pipeline(model):\n",
    "    # Passing all the columns except 'is_home' through the scaler\n",
    "    cols_to_scale = [col for col in X.columns if col != 'is_home']\n",
    "\n",
    "    # Initializing the standard-scaler\n",
    "    col_transformer = ColumnTransformer(\n",
    "        [('scaler', StandardScaler(), cols_to_scale)],\n",
    "        remainder='passthrough')\n",
    "    \n",
    "    return Pipeline(\n",
    "        [\n",
    "            ('transformer', col_transformer),\n",
    "            ('estimator', model),\n",
    "        ]\n",
    "    )"
   ]
  },
  {
   "attachments": {},
   "cell_type": "markdown",
   "metadata": {},
   "source": [
    "## Executing a given algorithm"
   ]
  },
  {
   "attachments": {},
   "cell_type": "markdown",
   "metadata": {},
   "source": [
    "This is the main body of code responsible for training and testing the model. It performes the following tasks:\n",
    "\n",
    "<ol>\n",
    "<li>Receives a model with its hyperparameters as input</li>\n",
    "<li>Prepares a pipeline using the get_pipeline function</li>\n",
    "<li>Fits the pipeline to the training data and tests it against both the training and the validation data</li>\n",
    "<li>Returns the pipeline as output</li>\n",
    "</ol>"
   ]
  },
  {
   "cell_type": "code",
   "execution_count": 22,
   "metadata": {},
   "outputs": [],
   "source": [
    "from sklearn.model_selection import cross_validate\n",
    "import sklearn.metrics as metrics\n",
    "\n",
    "def execute_ml(model):\n",
    "    # Preparing a pipeline using the input model\n",
    "    pipeline = get_pipeline(model)\n",
    "\n",
    "    # Running a cross validation and fetching the performance measurements\n",
    "    cv = cross_validate(pipeline, X, y,\n",
    "                        cv=10,\n",
    "                        return_train_score=True,\n",
    "                        scoring=('accuracy',\n",
    "                                 'precision_macro',\n",
    "                                 'recall_macro',\n",
    "                                 'f1_macro'))\n",
    "    \n",
    "    # Calculating the mean of each score\n",
    "    cv_result = pd.DataFrame(cv).mean()\n",
    "    \n",
    "    # Presenting the mean performance scores categorized as 'train' and 'test'\n",
    "    for score_set in ['train', 'test']:\n",
    "        set_info = [type(model).__name__, score_set]\n",
    "        scores = list(\n",
    "            cv_result[[idx for idx in cv_result.index if score_set in idx]])\n",
    "        evaluation_df.loc[len(evaluation_df)] = set_info + scores"
   ]
  },
  {
   "attachments": {},
   "cell_type": "markdown",
   "metadata": {},
   "source": [
    "## Hyperparameter tuning"
   ]
  },
  {
   "cell_type": "code",
   "execution_count": 23,
   "metadata": {},
   "outputs": [],
   "source": [
    "from sklearn.model_selection import train_test_split\n",
    "from sklearn.model_selection import GridSearchCV\n",
    "\n",
    "def grid_search(model, hyper_params):\n",
    "    X_data, _, y_data, _ = train_test_split(\n",
    "        X, y, stratify=y, random_state=12, train_size=.4, test_size=.1)\n",
    "    \n",
    "    gs = GridSearchCV(\n",
    "        get_pipeline(model),\n",
    "        param_grid=hyper_params, \n",
    "        n_jobs=-1, \n",
    "        cv=3, \n",
    "        scoring='accuracy',\n",
    "        error_score=0,\n",
    "        return_train_score=True,\n",
    "        verbose=2,\n",
    "    )\n",
    "\n",
    "    res = gs.fit(X_data, y_data)\n",
    "\n",
    "    print(\"Maximum accuracy of %f was yielded using: %s\" % (res.best_score_, res.best_params_))"
   ]
  },
  {
   "attachments": {},
   "cell_type": "markdown",
   "metadata": {},
   "source": [
    "## Overfit analysis"
   ]
  },
  {
   "cell_type": "code",
   "execution_count": 24,
   "metadata": {},
   "outputs": [],
   "source": [
    "def overfit_analysis(model, param_name, values):\n",
    "    def draw_plot(results, index_col, cv_count):\n",
    "        train_cols = [f\"split{idx}_train_score\" for idx in range(cv_count)]\n",
    "        test_cols = [f\"split{idx}_test_score\" for idx in range(cv_count)]\n",
    "        replace_dict = dict.fromkeys(train_cols, 'Train Score')\n",
    "        replace_dict.update(dict.fromkeys(test_cols, 'Test Score'))\n",
    "\n",
    "        results = (results.melt(id_vars=[index_col], \n",
    "                                value_vars=train_cols+test_cols,\n",
    "                                var_name='score_type',\n",
    "                                value_name='score')\n",
    "                          .replace(replace_dict))\n",
    "\n",
    "        lp = sns.lineplot(data=results, \n",
    "                          x=index_col,\n",
    "                          y='score',\n",
    "                          hue='score_type',\n",
    "                          estimator=np.mean,\n",
    "                          legend='full', ) \n",
    "\n",
    "        lp.legend(title='Score Type',)\n",
    "\n",
    "        lp.set(\n",
    "            xlabel=index_col[17:],\n",
    "            ylabel='Score',\n",
    "            title='Overfit Analysis')\n",
    "    \n",
    "    X_data, _, y_data, _ = train_test_split(\n",
    "        X, y, stratify=y, random_state=12, train_size=.4, test_size=.1)\n",
    "    \n",
    "    cv_count = 3\n",
    "    gs = GridSearchCV(\n",
    "        get_pipeline(model),\n",
    "        param_grid={param_name:values}, \n",
    "        n_jobs=-1, \n",
    "        cv=cv_count, \n",
    "        scoring='accuracy',\n",
    "        error_score=0,\n",
    "        return_train_score=True,\n",
    "        verbose=2)\n",
    "\n",
    "    res = pd.DataFrame(data = gs.fit(X_data, y_data).cv_results_)\n",
    "\n",
    "    draw_plot(res, 'param_' + param_name, cv_count)"
   ]
  },
  {
   "attachments": {},
   "cell_type": "markdown",
   "metadata": {},
   "source": [
    "# Machine learning algorithms"
   ]
  },
  {
   "attachments": {},
   "cell_type": "markdown",
   "metadata": {},
   "source": [
    "Below, several different classification algorithms are implemented, executed, and the results are displayed for comparison within the evaluation table."
   ]
  },
  {
   "attachments": {},
   "cell_type": "markdown",
   "metadata": {},
   "source": [
    "## K-Nearest Neighbours"
   ]
  },
  {
   "attachments": {},
   "cell_type": "markdown",
   "metadata": {},
   "source": [
    "### Hyperparameter Tuning"
   ]
  },
  {
   "cell_type": "code",
   "execution_count": 25,
   "metadata": {},
   "outputs": [],
   "source": [
    "from sklearn.neighbors import KNeighborsClassifier\n",
    "\n",
    "hyper_params = {}\n",
    "hyper_params['estimator__n_neighbors'] = range(1, 31, 2)\n",
    "hyper_params['estimator__weights'] = ['uniform']\n",
    "hyper_params['estimator__metric'] = ['euclidean', 'manhattan', 'minkowski']\n",
    "\n",
    "if hyper_param_tuning['KNN']:\n",
    "    grid_search(KNeighborsClassifier(), hyper_params)"
   ]
  },
  {
   "attachments": {},
   "cell_type": "markdown",
   "metadata": {},
   "source": [
    "### Overfit analysis"
   ]
  },
  {
   "cell_type": "code",
   "execution_count": 26,
   "metadata": {},
   "outputs": [],
   "source": [
    "from sklearn.neighbors import KNeighborsClassifier\n",
    "\n",
    "if hyper_param_tuning['KNN']:\n",
    "    overfit_analysis(\n",
    "        KNeighborsClassifier(\n",
    "            metric='manhattan',\n",
    "            weights='uniform'),\n",
    "        'estimator__n_neighbors',\n",
    "        range(11, 31))"
   ]
  },
  {
   "attachments": {},
   "cell_type": "markdown",
   "metadata": {},
   "source": [
    "### Train and test"
   ]
  },
  {
   "cell_type": "code",
   "execution_count": 27,
   "metadata": {},
   "outputs": [],
   "source": [
    "from sklearn.neighbors import KNeighborsClassifier\n",
    "\n",
    "knn_clf = KNeighborsClassifier(\n",
    "    metric='manhattan',\n",
    "    n_neighbors=27,\n",
    "    weights='uniform')\n",
    "\n",
    "execute_ml(knn_clf)"
   ]
  },
  {
   "attachments": {},
   "cell_type": "markdown",
   "metadata": {},
   "source": [
    "## Logistic regression"
   ]
  },
  {
   "attachments": {},
   "cell_type": "markdown",
   "metadata": {},
   "source": [
    "### Hyperparameter Tuning"
   ]
  },
  {
   "cell_type": "code",
   "execution_count": 28,
   "metadata": {},
   "outputs": [],
   "source": [
    "from sklearn.linear_model import LogisticRegression\n",
    "\n",
    "hyper_params = {}\n",
    "hyper_params['estimator__max_iter'] = [1000]\n",
    "hyper_params['estimator__C'] = np.logspace(-3, 3, 7, endpoint=True)\n",
    "hyper_params['estimator__solver'] = ['newton-cg', 'lbfgs', 'liblinear', 'sag', 'saga']\n",
    "hyper_params['estimator__penalty'] = ['none', 'l1', 'l2', 'elasticnet']\n",
    "\n",
    "if hyper_param_tuning['LR']:\n",
    "    grid_search(LogisticRegression(), hyper_params)"
   ]
  },
  {
   "attachments": {},
   "cell_type": "markdown",
   "metadata": {},
   "source": [
    "### Train and test"
   ]
  },
  {
   "cell_type": "code",
   "execution_count": 29,
   "metadata": {},
   "outputs": [],
   "source": [
    "from sklearn.linear_model import LogisticRegression\n",
    "\n",
    "lr_clf = LogisticRegression(\n",
    "    C=.1,\n",
    "    max_iter=1000,\n",
    "    penalty='l1',\n",
    "    solver='saga')\n",
    "\n",
    "execute_ml(lr_clf)"
   ]
  },
  {
   "attachments": {},
   "cell_type": "markdown",
   "metadata": {},
   "source": [
    "## Random forest"
   ]
  },
  {
   "attachments": {},
   "cell_type": "markdown",
   "metadata": {},
   "source": [
    "### Hyperparameter Tuning"
   ]
  },
  {
   "cell_type": "code",
   "execution_count": 30,
   "metadata": {},
   "outputs": [],
   "source": [
    "from sklearn.ensemble import RandomForestClassifier\n",
    "\n",
    "hyper_params = {}\n",
    "hyper_params['estimator__bootstrap']= [True, False]\n",
    "hyper_params['estimator__max_features'] = ['sqrt', 'log2']\n",
    "hyper_params['estimator__criterion'] = ['gini', 'entropy']\n",
    "\n",
    "if hyper_param_tuning['RF']:\n",
    "    grid_search(RandomForestClassifier(), hyper_params)"
   ]
  },
  {
   "attachments": {},
   "cell_type": "markdown",
   "metadata": {},
   "source": [
    "### Overfit analysis"
   ]
  },
  {
   "cell_type": "code",
   "execution_count": 31,
   "metadata": {},
   "outputs": [],
   "source": [
    "from sklearn.ensemble import RandomForestClassifier\n",
    "\n",
    "values_range = range(1,31)\n",
    "\n",
    "if hyper_param_tuning['RF']:\n",
    "    overfit_analysis(\n",
    "        RandomForestClassifier(\n",
    "            bootstrap=True,\n",
    "            criterion='gini',\n",
    "            max_features='log2',),\n",
    "        'estimator__min_samples_leaf',\n",
    "        values_range)"
   ]
  },
  {
   "attachments": {},
   "cell_type": "markdown",
   "metadata": {},
   "source": [
    "### Train and test"
   ]
  },
  {
   "cell_type": "code",
   "execution_count": 32,
   "metadata": {},
   "outputs": [],
   "source": [
    "from sklearn.ensemble import RandomForestClassifier\n",
    "\n",
    "rf_clf = RandomForestClassifier(\n",
    "    bootstrap=True,\n",
    "    criterion='gini',\n",
    "    max_features='log2',\n",
    "    min_samples_leaf=28)\n",
    "\n",
    "execute_ml(rf_clf)"
   ]
  },
  {
   "attachments": {},
   "cell_type": "markdown",
   "metadata": {},
   "source": [
    "## XGBoost classifier"
   ]
  },
  {
   "attachments": {},
   "cell_type": "markdown",
   "metadata": {},
   "source": [
    "### Hyperparameter Tuning"
   ]
  },
  {
   "cell_type": "code",
   "execution_count": 33,
   "metadata": {},
   "outputs": [],
   "source": [
    "from xgboost import XGBClassifier\n",
    "\n",
    "hyper_params = {}\n",
    "hyper_params['estimator__learning_rate'] = list(\n",
    "    np.logspace(-3, 0, 4, endpoint=True))\n",
    "hyper_params['estimator__n_estimators'] = [10, 100, 500, 1000]\n",
    "hyper_params['estimator__max_depth'] = list(range(1, 11, 2))\n",
    "\n",
    "if hyper_param_tuning['XGBoost']:\n",
    "    grid_search(XGBClassifier(), hyper_params)"
   ]
  },
  {
   "attachments": {},
   "cell_type": "markdown",
   "metadata": {},
   "source": [
    "### Overfit analysis"
   ]
  },
  {
   "cell_type": "code",
   "execution_count": 34,
   "metadata": {},
   "outputs": [],
   "source": [
    "from xgboost import XGBClassifier\n",
    "\n",
    "if hyper_param_tuning['XGBoost']:\n",
    "    overfit_analysis(\n",
    "        XGBClassifier(\n",
    "            learning_rate=0.01,\n",
    "            max_depth=1,\n",
    "            n_estimators=1000,),\n",
    "        'estimator__subsample',\n",
    "        np.arange(.001, .02, .001))"
   ]
  },
  {
   "attachments": {},
   "cell_type": "markdown",
   "metadata": {},
   "source": [
    "### Train and test"
   ]
  },
  {
   "cell_type": "code",
   "execution_count": 35,
   "metadata": {},
   "outputs": [],
   "source": [
    "from xgboost import XGBClassifier\n",
    "\n",
    "xgboost_clf = XGBClassifier(\n",
    "    learning_rate=0.1,\n",
    "    max_depth=1,\n",
    "    n_estimators=1000,\n",
    "    subsample=.008)\n",
    "\n",
    "execute_ml(xgboost_clf)"
   ]
  },
  {
   "attachments": {},
   "cell_type": "markdown",
   "metadata": {},
   "source": [
    "## Support Vector Machine classifier"
   ]
  },
  {
   "attachments": {},
   "cell_type": "markdown",
   "metadata": {},
   "source": [
    "### Hyperparameter Tuning"
   ]
  },
  {
   "cell_type": "code",
   "execution_count": 36,
   "metadata": {},
   "outputs": [],
   "source": [
    "from sklearn import svm\n",
    "\n",
    "hyper_params = {}\n",
    "hyper_params['estimator__C']=(list(np.logspace(-1, 3, 5)) +\n",
    "                              list(range(5000, 10000, 1000)))\n",
    "hyper_params['estimator__gamma']=list(np.logspace(-4, 0, 5))\n",
    "hyper_params['estimator__kernel'] = ['linear', 'poly', 'sigmoid', 'rbf']\n",
    "\n",
    "if hyper_param_tuning['SVM']:\n",
    "    grid_search(svm.SVC(), hyper_params) "
   ]
  },
  {
   "attachments": {},
   "cell_type": "markdown",
   "metadata": {},
   "source": [
    "### Overfit analysis"
   ]
  },
  {
   "cell_type": "code",
   "execution_count": 37,
   "metadata": {},
   "outputs": [],
   "source": [
    "from sklearn import svm\n",
    "\n",
    "values_range = list(range(1, 1000, 100)) + list(range(1000, 15000, 1000))\n",
    "\n",
    "if hyper_param_tuning['SVM']:\n",
    "    overfit_analysis(\n",
    "        svm.SVC(\n",
    "            gamma=0.1,\n",
    "            kernel='rbf'),\n",
    "        'estimator__C',\n",
    "        values_range)"
   ]
  },
  {
   "attachments": {},
   "cell_type": "markdown",
   "metadata": {},
   "source": [
    "### Train and test"
   ]
  },
  {
   "cell_type": "code",
   "execution_count": 38,
   "metadata": {},
   "outputs": [],
   "source": [
    "from sklearn import svm\n",
    "\n",
    "svm_clf = svm.SVC(\n",
    "    C=1,\n",
    "    gamma=0.1,\n",
    "    kernel='rbf')\n",
    "\n",
    "execute_ml(svm_clf)"
   ]
  },
  {
   "attachments": {},
   "cell_type": "markdown",
   "metadata": {},
   "source": [
    "## Multilayer perceptron"
   ]
  },
  {
   "attachments": {},
   "cell_type": "markdown",
   "metadata": {},
   "source": [
    "### Hyperparameter Tuning"
   ]
  },
  {
   "cell_type": "code",
   "execution_count": 39,
   "metadata": {},
   "outputs": [],
   "source": [
    "from sklearn.neural_network import MLPClassifier\n",
    "\n",
    "hyper_params = {}\n",
    "hyper_params['estimator__hidden_layer_sizes']=[\n",
    "    (100,), (50,), (25,),\n",
    "    (50,25),(100,50),\n",
    "    (100,50,25),\n",
    "    (100,50,25, 12),\n",
    "]\n",
    "hyper_params['estimator__max_iter']=[1500]\n",
    "hyper_params['estimator__random_state'] = [12]\n",
    "hyper_params['estimator__activation']=['tanh', 'relu', 'logistic']\n",
    "hyper_params['estimator__solver']=['sgd', 'adam', 'lbfgs']\n",
    "hyper_params['estimator__learning_rate']=['constant','adaptive','invscaling']\n",
    "\n",
    "if hyper_param_tuning['MLP']:\n",
    "    grid_search(MLPClassifier(), hyper_params)"
   ]
  },
  {
   "attachments": {},
   "cell_type": "markdown",
   "metadata": {},
   "source": [
    "### Overfit analysis"
   ]
  },
  {
   "cell_type": "code",
   "execution_count": 58,
   "metadata": {},
   "outputs": [
    {
     "name": "stdout",
     "output_type": "stream",
     "text": [
      "Fitting 3 folds for each of 20 candidates, totalling 60 fits\n"
     ]
    },
    {
     "data": {
      "image/png": "[encoded data removed]",
      "text/plain": [
       "<Figure size 640x480 with 1 Axes>"
      ]
     },
     "metadata": {},
     "output_type": "display_data"
    }
   ],
   "source": [
    "from sklearn.neural_network import MLPClassifier\n",
    "\n",
    "values_range = np.linspace(0,.2,20)\n",
    "\n",
    "if hyper_param_tuning['MLP']:\n",
    "    overfit_analysis(\n",
    "        MLPClassifier(\n",
    "            activation='tanh',\n",
    "            hidden_layer_sizes=(100, 50, 25, 12),\n",
    "            learning_rate='constant',\n",
    "            max_iter=1500,\n",
    "            random_state=12,\n",
    "            solver='adam'),\n",
    "        'estimator__alpha',\n",
    "        values_range)"
   ]
  },
  {
   "attachments": {},
   "cell_type": "markdown",
   "metadata": {},
   "source": [
    "### Train and test"
   ]
  },
  {
   "cell_type": "code",
   "execution_count": 45,
   "metadata": {},
   "outputs": [],
   "source": [
    "from sklearn.neural_network import MLPClassifier\n",
    "\n",
    "mlp_clf = MLPClassifier(\n",
    "    activation='tanh',\n",
    "    hidden_layer_sizes=(50, 25),\n",
    "    learning_rate='adaptive',\n",
    "    max_iter=1500,\n",
    "    random_state=12,\n",
    "    solver='adam',\n",
    "    alpha=.04)\n",
    "\n",
    "execute_ml(mlp_clf)"
   ]
  },
  {
   "attachments": {},
   "cell_type": "markdown",
   "metadata": {},
   "source": [
    "### Learning rate"
   ]
  },
  {
   "cell_type": "code",
   "execution_count": 42,
   "metadata": {},
   "outputs": [
    {
     "data": {
      "image/png": "[encoded data removed]",
      "text/plain": [
       "<Figure size 640x480 with 1 Axes>"
      ]
     },
     "metadata": {},
     "output_type": "display_data"
    }
   ],
   "source": [
    "from sklearn.model_selection import learning_curve\n",
    "\n",
    "train_sizes, train_scores, test_scores = learning_curve(\n",
    "    mlp_clf, X, y,\n",
    "    cv=3,\n",
    "    n_jobs=-1,\n",
    "    random_state=12,)\n",
    "\n",
    "data = {\n",
    "    'train_size': list(train_sizes),\n",
    "    'train_accuracy': [cv.mean() for cv in train_scores],\n",
    "    'test_accuracy': [cv.mean() for cv in test_scores],\n",
    "}\n",
    "data_df = pd.melt(pd.DataFrame(data), \n",
    "                  id_vars='train_size', \n",
    "                  value_vars=['train_accuracy', 'test_accuracy'],\n",
    "                  var_name='Measurement',\n",
    "                  value_name='Percentage')\n",
    "\n",
    "sns.lineplot(data=data_df, x='train_size', y='Percentage', hue='Measurement');"
   ]
  },
  {
   "attachments": {},
   "cell_type": "markdown",
   "metadata": {},
   "source": [
    "# Evaluation"
   ]
  },
  {
   "cell_type": "code",
   "execution_count": 46,
   "metadata": {},
   "outputs": [
    {
     "data": {
      "text/html": [
       "<div>\n",
       "<style scoped>\n",
       "    .dataframe tbody tr th:only-of-type {\n",
       "        vertical-align: middle;\n",
       "    }\n",
       "\n",
       "    .dataframe tbody tr th {\n",
       "        vertical-align: top;\n",
       "    }\n",
       "\n",
       "    .dataframe thead th {\n",
       "        text-align: right;\n",
       "    }\n",
       "</style>\n",
       "<table border=\"1\" class=\"dataframe\">\n",
       "  <thead>\n",
       "    <tr style=\"text-align: right;\">\n",
       "      <th></th>\n",
       "      <th>Model</th>\n",
       "      <th>DataSet</th>\n",
       "      <th>Accuracy</th>\n",
       "      <th>Precision</th>\n",
       "      <th>Recall</th>\n",
       "      <th>f1-score</th>\n",
       "    </tr>\n",
       "  </thead>\n",
       "  <tbody>\n",
       "    <tr>\n",
       "      <th>0</th>\n",
       "      <td>KNeighborsClassifier</td>\n",
       "      <td>train</td>\n",
       "      <td>0.575073</td>\n",
       "      <td>0.611006</td>\n",
       "      <td>0.575074</td>\n",
       "      <td>0.574699</td>\n",
       "    </tr>\n",
       "    <tr>\n",
       "      <th>1</th>\n",
       "      <td>KNeighborsClassifier</td>\n",
       "      <td>test</td>\n",
       "      <td>0.518358</td>\n",
       "      <td>0.566218</td>\n",
       "      <td>0.518379</td>\n",
       "      <td>0.507780</td>\n",
       "    </tr>\n",
       "    <tr>\n",
       "      <th>2</th>\n",
       "      <td>LogisticRegression</td>\n",
       "      <td>train</td>\n",
       "      <td>0.569454</td>\n",
       "      <td>0.565383</td>\n",
       "      <td>0.569454</td>\n",
       "      <td>0.566092</td>\n",
       "    </tr>\n",
       "    <tr>\n",
       "      <th>3</th>\n",
       "      <td>LogisticRegression</td>\n",
       "      <td>test</td>\n",
       "      <td>0.533642</td>\n",
       "      <td>0.537648</td>\n",
       "      <td>0.533608</td>\n",
       "      <td>0.522077</td>\n",
       "    </tr>\n",
       "    <tr>\n",
       "      <th>4</th>\n",
       "      <td>RandomForestClassifier</td>\n",
       "      <td>train</td>\n",
       "      <td>0.658905</td>\n",
       "      <td>0.658473</td>\n",
       "      <td>0.658906</td>\n",
       "      <td>0.658296</td>\n",
       "    </tr>\n",
       "    <tr>\n",
       "      <th>5</th>\n",
       "      <td>RandomForestClassifier</td>\n",
       "      <td>test</td>\n",
       "      <td>0.535709</td>\n",
       "      <td>0.549182</td>\n",
       "      <td>0.535765</td>\n",
       "      <td>0.522702</td>\n",
       "    </tr>\n",
       "    <tr>\n",
       "      <th>6</th>\n",
       "      <td>XGBClassifier</td>\n",
       "      <td>train</td>\n",
       "      <td>0.575520</td>\n",
       "      <td>0.575892</td>\n",
       "      <td>0.575523</td>\n",
       "      <td>0.574945</td>\n",
       "    </tr>\n",
       "    <tr>\n",
       "      <th>7</th>\n",
       "      <td>XGBClassifier</td>\n",
       "      <td>test</td>\n",
       "      <td>0.481744</td>\n",
       "      <td>0.491704</td>\n",
       "      <td>0.481621</td>\n",
       "      <td>0.473705</td>\n",
       "    </tr>\n",
       "    <tr>\n",
       "      <th>8</th>\n",
       "      <td>SVC</td>\n",
       "      <td>train</td>\n",
       "      <td>0.957492</td>\n",
       "      <td>0.957517</td>\n",
       "      <td>0.957491</td>\n",
       "      <td>0.957458</td>\n",
       "    </tr>\n",
       "    <tr>\n",
       "      <th>9</th>\n",
       "      <td>SVC</td>\n",
       "      <td>test</td>\n",
       "      <td>0.590918</td>\n",
       "      <td>0.602800</td>\n",
       "      <td>0.590941</td>\n",
       "      <td>0.580641</td>\n",
       "    </tr>\n",
       "    <tr>\n",
       "      <th>10</th>\n",
       "      <td>MLPClassifier</td>\n",
       "      <td>train</td>\n",
       "      <td>0.867082</td>\n",
       "      <td>0.866981</td>\n",
       "      <td>0.867080</td>\n",
       "      <td>0.866968</td>\n",
       "    </tr>\n",
       "    <tr>\n",
       "      <th>11</th>\n",
       "      <td>MLPClassifier</td>\n",
       "      <td>test</td>\n",
       "      <td>0.534976</td>\n",
       "      <td>0.541691</td>\n",
       "      <td>0.534954</td>\n",
       "      <td>0.527632</td>\n",
       "    </tr>\n",
       "    <tr>\n",
       "      <th>12</th>\n",
       "      <td>MLPClassifier</td>\n",
       "      <td>train</td>\n",
       "      <td>1.000000</td>\n",
       "      <td>1.000000</td>\n",
       "      <td>1.000000</td>\n",
       "      <td>1.000000</td>\n",
       "    </tr>\n",
       "    <tr>\n",
       "      <th>13</th>\n",
       "      <td>MLPClassifier</td>\n",
       "      <td>test</td>\n",
       "      <td>0.512397</td>\n",
       "      <td>0.517960</td>\n",
       "      <td>0.512301</td>\n",
       "      <td>0.505171</td>\n",
       "    </tr>\n",
       "  </tbody>\n",
       "</table>\n",
       "</div>"
      ],
      "text/plain": [
       "                     Model DataSet  Accuracy  Precision    Recall  f1-score\n",
       "0     KNeighborsClassifier   train  0.575073   0.611006  0.575074  0.574699\n",
       "1     KNeighborsClassifier    test  0.518358   0.566218  0.518379  0.507780\n",
       "2       LogisticRegression   train  0.569454   0.565383  0.569454  0.566092\n",
       "3       LogisticRegression    test  0.533642   0.537648  0.533608  0.522077\n",
       "4   RandomForestClassifier   train  0.658905   0.658473  0.658906  0.658296\n",
       "5   RandomForestClassifier    test  0.535709   0.549182  0.535765  0.522702\n",
       "6            XGBClassifier   train  0.575520   0.575892  0.575523  0.574945\n",
       "7            XGBClassifier    test  0.481744   0.491704  0.481621  0.473705\n",
       "8                      SVC   train  0.957492   0.957517  0.957491  0.957458\n",
       "9                      SVC    test  0.590918   0.602800  0.590941  0.580641\n",
       "10           MLPClassifier   train  0.867082   0.866981  0.867080  0.866968\n",
       "11           MLPClassifier    test  0.534976   0.541691  0.534954  0.527632\n",
       "12           MLPClassifier   train  1.000000   1.000000  1.000000  1.000000\n",
       "13           MLPClassifier    test  0.512397   0.517960  0.512301  0.505171"
      ]
     },
     "metadata": {},
     "output_type": "display_data"
    }
   ],
   "source": [
    "from IPython.display import display\n",
    "with pd.option_context('display.max_rows', None, 'display.max_columns', None):\n",
    "    display(evaluation_df) "
   ]
  },
  {
   "cell_type": "code",
   "execution_count": 47,
   "metadata": {},
   "outputs": [
    {
     "data": {
      "image/png": "[encoded data removed]",
      "text/plain": [
       "<Figure size 640x480 with 1 Axes>"
      ]
     },
     "metadata": {},
     "output_type": "display_data"
    }
   ],
   "source": [
    "sns.barplot(data=evaluation_df, x='Model', y='Accuracy', hue='DataSet')\n",
    "plt.xticks(rotation=45);"
   ]
  },
  {
   "attachments": {},
   "cell_type": "markdown",
   "metadata": {},
   "source": [
    "# Selecting the optimal model"
   ]
  },
  {
   "cell_type": "code",
   "execution_count": 16,
   "metadata": {},
   "outputs": [
    {
     "ename": "NameError",
     "evalue": "name 'mlp_clf' is not defined",
     "output_type": "error",
     "traceback": [
      "\u001b[1;31m---------------------------------------------------------------------------\u001b[0m",
      "\u001b[1;31mNameError\u001b[0m                                 Traceback (most recent call last)",
      "Cell \u001b[1;32mIn[16], line 2\u001b[0m\n\u001b[0;32m      1\u001b[0m \u001b[39m# Selecting the model with the best performance\u001b[39;00m\n\u001b[1;32m----> 2\u001b[0m pipeline \u001b[39m=\u001b[39m get_pipeline(mlp_clf)\n\u001b[0;32m      4\u001b[0m \u001b[39m# Training the selected model with all of the data (including the test set)\u001b[39;00m\n\u001b[0;32m      5\u001b[0m pipeline\u001b[39m.\u001b[39mfit(X, y)\n",
      "\u001b[1;31mNameError\u001b[0m: name 'mlp_clf' is not defined"
     ]
    }
   ],
   "source": [
    "# Selecting the model with the best performance\n",
    "pipeline = get_pipeline(mlp_clf)\n",
    "\n",
    "# Training the selected model with all of the data (including the test set)\n",
    "pipeline.fit(X, y)"
   ]
  },
  {
   "attachments": {},
   "cell_type": "markdown",
   "metadata": {},
   "source": [
    "# Exporting the trained model"
   ]
  },
  {
   "attachments": {},
   "cell_type": "markdown",
   "metadata": {},
   "source": [
    "In order to avoid training the model each time a prediction is needed, the trained model is saved into a file and from then on, for each prediction, the already trained model is loaded from the file and used."
   ]
  },
  {
   "cell_type": "code",
   "execution_count": null,
   "metadata": {},
   "outputs": [],
   "source": [
    "import joblib\n",
    "\n",
    "# Saving the trained model into a file\n",
    "joblib.dump(pipeline, \"./trained_models/model_ordinary.joblib\")"
   ]
  }
 ],
 "metadata": {
  "kernelspec": {
   "display_name": "Python 3",
   "language": "python",
   "name": "python3"
  },
  "language_info": {
   "codemirror_mode": {
    "name": "ipython",
    "version": 3
   },
   "file_extension": ".py",
   "mimetype": "text/x-python",
   "name": "python",
   "nbconvert_exporter": "python",
   "pygments_lexer": "ipython3",
   "version": "3.10.9"
  },
  "orig_nbformat": 4
 },
 "nbformat": 4,
 "nbformat_minor": 2
}
