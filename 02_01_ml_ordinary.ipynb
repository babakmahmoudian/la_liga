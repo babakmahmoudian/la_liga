{
 "cells": [
  {
   "cell_type": "code",
   "execution_count": 234,
   "metadata": {},
   "outputs": [],
   "source": [
    "import pandas as pd\n",
    "import numpy as np\n",
    "import seaborn as sns\n",
    "import matplotlib.pyplot as plt\n",
    "\n",
    "%matplotlib inline"
   ]
  },
  {
   "cell_type": "code",
   "execution_count": 235,
   "metadata": {},
   "outputs": [],
   "source": [
    "hyper_param_tuning = {\n",
    "    'KNN': False,\n",
    "    'LR': False,\n",
    "    'RF': False,\n",
    "    'XGBoost': False,\n",
    "    'SVM': False,\n",
    "    'MLP': False,\n",
    "}"
   ]
  },
  {
   "attachments": {},
   "cell_type": "markdown",
   "metadata": {},
   "source": [
    "# Importing and preparing the dataset"
   ]
  },
  {
   "attachments": {},
   "cell_type": "markdown",
   "metadata": {},
   "source": [
    "The data is imported via the file output from preprocessing stage"
   ]
  },
  {
   "cell_type": "code",
   "execution_count": 236,
   "metadata": {},
   "outputs": [],
   "source": [
    "df = pd.read_csv(\"./dataset/05_cleaned.csv\")\n",
    "\n",
    "# Removing the columns regarding the first differance\n",
    "cols_to_remove = [col for col in df.columns if col[:3] == 'fd_']\n",
    "df = df.drop(cols_to_remove, axis='columns')\n",
    "\n",
    "# Setting the independent variables and the target class\n",
    "X = df.drop(['fulltime_result'], axis='columns')\n",
    "y = df['fulltime_result']"
   ]
  },
  {
   "attachments": {},
   "cell_type": "markdown",
   "metadata": {},
   "source": [
    "# Helper functions and utilities"
   ]
  },
  {
   "attachments": {},
   "cell_type": "markdown",
   "metadata": {},
   "source": [
    "## Preparing the comparison table"
   ]
  },
  {
   "attachments": {},
   "cell_type": "markdown",
   "metadata": {},
   "source": [
    "This table is filled with the measurements of performance of various models, and is later used to compare the models and choose the best one for the current dataset."
   ]
  },
  {
   "cell_type": "code",
   "execution_count": 237,
   "metadata": {},
   "outputs": [],
   "source": [
    "evaluation_df = pd.DataFrame(\n",
    "    columns=['Model',\n",
    "             'DataSet',\n",
    "             'Accuracy',\n",
    "             'Precision',\n",
    "             'Recall',\n",
    "             'f1-score',]\n",
    ")"
   ]
  },
  {
   "attachments": {},
   "cell_type": "markdown",
   "metadata": {},
   "source": [
    "## Initializing a pipeline"
   ]
  },
  {
   "attachments": {},
   "cell_type": "markdown",
   "metadata": {},
   "source": [
    "Here we create a pipeline with desired transformations and initialize it with the given estimator"
   ]
  },
  {
   "cell_type": "code",
   "execution_count": 238,
   "metadata": {},
   "outputs": [],
   "source": [
    "from sklearn.pipeline import Pipeline\n",
    "from sklearn.preprocessing import StandardScaler\n",
    "from sklearn.compose import ColumnTransformer\n",
    "\n",
    "def get_pipeline(model):\n",
    "    # Passing all the columns except 'is_home' through the scaler\n",
    "    cols_to_scale = [col for col in X.columns if col != 'is_home']\n",
    "\n",
    "    # Initializing the standard-scaler\n",
    "    col_transformer = ColumnTransformer(\n",
    "        [('scaler', StandardScaler(), cols_to_scale)],\n",
    "        remainder='passthrough')\n",
    "    \n",
    "    return Pipeline(\n",
    "        [\n",
    "            ('transformer', col_transformer),\n",
    "            ('estimator', model),\n",
    "        ]\n",
    "    )"
   ]
  },
  {
   "attachments": {},
   "cell_type": "markdown",
   "metadata": {},
   "source": [
    "## Executing a given algorithm"
   ]
  },
  {
   "attachments": {},
   "cell_type": "markdown",
   "metadata": {},
   "source": [
    "This is the main body of code responsible for training and testing the model. It performes the following tasks:\n",
    "\n",
    "<ol>\n",
    "<li>Receives a model with its hyperparameters as input</li>\n",
    "<li>Prepares a pipeline using the get_pipeline function</li>\n",
    "<li>Fits the pipeline to the training data and tests it against both the training and the validation data</li>\n",
    "<li>Returns the pipeline as output</li>\n",
    "</ol>"
   ]
  },
  {
   "cell_type": "code",
   "execution_count": 239,
   "metadata": {},
   "outputs": [],
   "source": [
    "from sklearn.model_selection import cross_validate\n",
    "import sklearn.metrics as metrics\n",
    "\n",
    "def execute_ml(model):\n",
    "    # Preparing a pipeline using the input model\n",
    "    pipeline = get_pipeline(model)\n",
    "\n",
    "    # Running a cross validation and fetching the performance measurements\n",
    "    cv = cross_validate(pipeline, X, y,\n",
    "                        cv=10,\n",
    "                        return_train_score=True,\n",
    "                        scoring=('accuracy',\n",
    "                                 'precision_macro',\n",
    "                                 'recall_macro',\n",
    "                                 'f1_macro'))\n",
    "    \n",
    "    # Calculating the mean of each score\n",
    "    cv_result = pd.DataFrame(cv).mean()\n",
    "    \n",
    "    # Presenting the mean performance scores categorized as 'train' and 'test'\n",
    "    for score_set in ['train', 'test']:\n",
    "        set_info = [type(model).__name__, score_set]\n",
    "        scores = list(\n",
    "            cv_result[[idx for idx in cv_result.index if score_set in idx]])\n",
    "        evaluation_df.loc[len(evaluation_df)] = set_info + scores"
   ]
  },
  {
   "attachments": {},
   "cell_type": "markdown",
   "metadata": {},
   "source": [
    "## Hyperparameter tuning"
   ]
  },
  {
   "cell_type": "code",
   "execution_count": 240,
   "metadata": {},
   "outputs": [],
   "source": [
    "from sklearn.model_selection import train_test_split\n",
    "from sklearn.model_selection import GridSearchCV\n",
    "\n",
    "def grid_search(model, hyper_params):\n",
    "    X_data, _, y_data, _ = train_test_split(\n",
    "        X, y, stratify=y, random_state=12, train_size=.4, test_size=.1)\n",
    "    \n",
    "    gs = GridSearchCV(\n",
    "        get_pipeline(model),\n",
    "        param_grid=hyper_params, \n",
    "        n_jobs=-1, \n",
    "        cv=3, \n",
    "        scoring='accuracy',\n",
    "        error_score=0,\n",
    "        return_train_score=True,\n",
    "        verbose=2,\n",
    "    )\n",
    "\n",
    "    res = gs.fit(X_data, y_data)\n",
    "\n",
    "    print(\"Maximum accuracy of %f was yielded using: %s\" % (res.best_score_, res.best_params_))"
   ]
  },
  {
   "attachments": {},
   "cell_type": "markdown",
   "metadata": {},
   "source": [
    "## Overfit analysis"
   ]
  },
  {
   "cell_type": "code",
   "execution_count": 241,
   "metadata": {},
   "outputs": [],
   "source": [
    "def overfit_analysis(model, param_name, values):\n",
    "    def draw_plot(results, index_col, cv_count):\n",
    "        train_cols = [f\"split{idx}_train_score\" for idx in range(cv_count)]\n",
    "        test_cols = [f\"split{idx}_test_score\" for idx in range(cv_count)]\n",
    "        replace_dict = dict.fromkeys(train_cols, 'Train Score')\n",
    "        replace_dict.update(dict.fromkeys(test_cols, 'Test Score'))\n",
    "\n",
    "        results = (results.melt(id_vars=[index_col], \n",
    "                                value_vars=train_cols+test_cols,\n",
    "                                var_name='score_type',\n",
    "                                value_name='score')\n",
    "                          .replace(replace_dict))\n",
    "\n",
    "        lp = sns.lineplot(data=results, \n",
    "                          x=index_col,\n",
    "                          y='score',\n",
    "                          hue='score_type',\n",
    "                          estimator=np.mean,\n",
    "                          legend='full', ) \n",
    "\n",
    "        lp.legend(title='Score Type',)\n",
    "\n",
    "        lp.set(\n",
    "            xlabel=index_col[17:],\n",
    "            ylabel='Score',\n",
    "            title='Overfit Analysis')\n",
    "    \n",
    "    X_data, _, y_data, _ = train_test_split(\n",
    "        X, y, stratify=y, random_state=12, train_size=.4, test_size=.1)\n",
    "    \n",
    "    cv_count = 3\n",
    "    gs = GridSearchCV(\n",
    "        get_pipeline(model),\n",
    "        param_grid={param_name:values}, \n",
    "        n_jobs=-1, \n",
    "        cv=cv_count, \n",
    "        scoring='accuracy',\n",
    "        error_score=0,\n",
    "        return_train_score=True,\n",
    "        verbose=2)\n",
    "\n",
    "    res = pd.DataFrame(data = gs.fit(X_data, y_data).cv_results_)\n",
    "\n",
    "    draw_plot(res, 'param_' + param_name, cv_count)"
   ]
  },
  {
   "attachments": {},
   "cell_type": "markdown",
   "metadata": {},
   "source": [
    "# Machine learning algorithms"
   ]
  },
  {
   "attachments": {},
   "cell_type": "markdown",
   "metadata": {},
   "source": [
    "Below, several different classification algorithms are implemented, executed, and the results are displayed for comparison within the evaluation table."
   ]
  },
  {
   "attachments": {},
   "cell_type": "markdown",
   "metadata": {},
   "source": [
    "## K-Nearest Neighbours"
   ]
  },
  {
   "attachments": {},
   "cell_type": "markdown",
   "metadata": {},
   "source": [
    "### Hyperparameter Tuning"
   ]
  },
  {
   "cell_type": "code",
   "execution_count": 242,
   "metadata": {},
   "outputs": [],
   "source": [
    "from sklearn.neighbors import KNeighborsClassifier\n",
    "\n",
    "hyper_params = {}\n",
    "hyper_params['estimator__n_neighbors'] = range(1, 31, 2)\n",
    "hyper_params['estimator__weights'] = ['uniform']\n",
    "hyper_params['estimator__metric'] = ['euclidean', 'manhattan', 'minkowski']\n",
    "\n",
    "if hyper_param_tuning['KNN']:\n",
    "    grid_search(KNeighborsClassifier(), hyper_params)"
   ]
  },
  {
   "attachments": {},
   "cell_type": "markdown",
   "metadata": {},
   "source": [
    "### Overfit analysis"
   ]
  },
  {
   "cell_type": "code",
   "execution_count": 243,
   "metadata": {},
   "outputs": [],
   "source": [
    "from sklearn.neighbors import KNeighborsClassifier\n",
    "\n",
    "if hyper_param_tuning['KNN']:\n",
    "    overfit_analysis(\n",
    "        KNeighborsClassifier(\n",
    "            metric='manhattan',\n",
    "            weights='uniform'),\n",
    "        'estimator__n_neighbors',\n",
    "        range(11, 31))"
   ]
  },
  {
   "attachments": {},
   "cell_type": "markdown",
   "metadata": {},
   "source": [
    "### Train and test"
   ]
  },
  {
   "cell_type": "code",
   "execution_count": 244,
   "metadata": {},
   "outputs": [],
   "source": [
    "from sklearn.neighbors import KNeighborsClassifier\n",
    "\n",
    "knn_clf = KNeighborsClassifier(\n",
    "    metric='euclidean',\n",
    "    n_neighbors=26,\n",
    "    weights='uniform')\n",
    "\n",
    "execute_ml(knn_clf)"
   ]
  },
  {
   "attachments": {},
   "cell_type": "markdown",
   "metadata": {},
   "source": [
    "## Logistic regression"
   ]
  },
  {
   "attachments": {},
   "cell_type": "markdown",
   "metadata": {},
   "source": [
    "### Hyperparameter Tuning"
   ]
  },
  {
   "cell_type": "code",
   "execution_count": 245,
   "metadata": {},
   "outputs": [],
   "source": [
    "from sklearn.linear_model import LogisticRegression\n",
    "\n",
    "hyper_params = {}\n",
    "hyper_params['estimator__max_iter'] = [1000]\n",
    "hyper_params['estimator__C'] = np.logspace(-3, 3, 7, endpoint=True)\n",
    "hyper_params['estimator__solver'] = ['newton-cg', 'lbfgs', 'liblinear', 'sag', 'saga']\n",
    "hyper_params['estimator__penalty'] = ['none', 'l1', 'l2', 'elasticnet']\n",
    "\n",
    "if hyper_param_tuning['LR']:\n",
    "    grid_search(LogisticRegression(), hyper_params)"
   ]
  },
  {
   "attachments": {},
   "cell_type": "markdown",
   "metadata": {},
   "source": [
    "### Train and test"
   ]
  },
  {
   "cell_type": "code",
   "execution_count": 246,
   "metadata": {},
   "outputs": [],
   "source": [
    "from sklearn.linear_model import LogisticRegression\n",
    "\n",
    "lr_clf = LogisticRegression(\n",
    "    C=.005,\n",
    "    max_iter=20,\n",
    "    penalty='l1',\n",
    "    solver='saga')\n",
    "\n",
    "execute_ml(lr_clf)"
   ]
  },
  {
   "attachments": {},
   "cell_type": "markdown",
   "metadata": {},
   "source": [
    "## Random forest"
   ]
  },
  {
   "attachments": {},
   "cell_type": "markdown",
   "metadata": {},
   "source": [
    "### Hyperparameter Tuning"
   ]
  },
  {
   "cell_type": "code",
   "execution_count": 247,
   "metadata": {},
   "outputs": [],
   "source": [
    "from sklearn.ensemble import RandomForestClassifier\n",
    "\n",
    "hyper_params = {}\n",
    "hyper_params['estimator__bootstrap']= [True, False]\n",
    "hyper_params['estimator__max_features'] = ['sqrt', 'log2']\n",
    "hyper_params['estimator__criterion'] = ['gini', 'entropy']\n",
    "\n",
    "if hyper_param_tuning['RF']:\n",
    "    grid_search(RandomForestClassifier(), hyper_params)"
   ]
  },
  {
   "attachments": {},
   "cell_type": "markdown",
   "metadata": {},
   "source": [
    "### Overfit analysis"
   ]
  },
  {
   "cell_type": "code",
   "execution_count": 248,
   "metadata": {},
   "outputs": [],
   "source": [
    "from sklearn.ensemble import RandomForestClassifier\n",
    "\n",
    "values_range = range(20,41)\n",
    "\n",
    "if hyper_param_tuning['RF']:\n",
    "    overfit_analysis(\n",
    "        RandomForestClassifier(\n",
    "            bootstrap=True,\n",
    "            criterion='entropy',\n",
    "            max_features='sqrt',\n",
    "            min_samples_split=.5,\n",
    "            max_depth=3,),\n",
    "        'estimator__min_samples_leaf',\n",
    "        values_range)"
   ]
  },
  {
   "attachments": {},
   "cell_type": "markdown",
   "metadata": {},
   "source": [
    "### Train and test"
   ]
  },
  {
   "cell_type": "code",
   "execution_count": 249,
   "metadata": {},
   "outputs": [],
   "source": [
    "from sklearn.ensemble import RandomForestClassifier\n",
    "\n",
    "rf_clf = RandomForestClassifier(\n",
    "    bootstrap=False,\n",
    "    criterion='gini',\n",
    "    max_features='log2',\n",
    "    min_samples_split=.5,\n",
    "    max_depth=1,\n",
    "    min_samples_leaf=27)\n",
    "\n",
    "execute_ml(rf_clf)"
   ]
  },
  {
   "attachments": {},
   "cell_type": "markdown",
   "metadata": {},
   "source": [
    "## XGBoost classifier"
   ]
  },
  {
   "attachments": {},
   "cell_type": "markdown",
   "metadata": {},
   "source": [
    "### Hyperparameter Tuning"
   ]
  },
  {
   "cell_type": "code",
   "execution_count": 250,
   "metadata": {},
   "outputs": [],
   "source": [
    "from xgboost import XGBClassifier\n",
    "\n",
    "hyper_params = {}\n",
    "hyper_params['estimator__learning_rate'] = list(\n",
    "    np.logspace(-3, 0, 4, endpoint=True))\n",
    "hyper_params['estimator__n_estimators'] = [10, 100, 500, 1000]\n",
    "hyper_params['estimator__max_depth'] = list(range(1, 11, 2))\n",
    "\n",
    "if hyper_param_tuning['XGBoost']:\n",
    "    grid_search(XGBClassifier(), hyper_params)"
   ]
  },
  {
   "attachments": {},
   "cell_type": "markdown",
   "metadata": {},
   "source": [
    "### Overfit analysis"
   ]
  },
  {
   "cell_type": "code",
   "execution_count": 251,
   "metadata": {},
   "outputs": [],
   "source": [
    "from xgboost import XGBClassifier\n",
    "\n",
    "if hyper_param_tuning['XGBoost']:\n",
    "    overfit_analysis(\n",
    "        XGBClassifier(\n",
    "            learning_rate=0.01,\n",
    "            max_depth=1,\n",
    "            n_estimators=500,),\n",
    "        'estimator__subsample',\n",
    "        np.arange(.001, .02, .001))"
   ]
  },
  {
   "attachments": {},
   "cell_type": "markdown",
   "metadata": {},
   "source": [
    "### Train and test"
   ]
  },
  {
   "cell_type": "code",
   "execution_count": 252,
   "metadata": {},
   "outputs": [],
   "source": [
    "from xgboost import XGBClassifier\n",
    "\n",
    "xgboost_clf = XGBClassifier(\n",
    "    learning_rate=0.2,\n",
    "    max_depth=1,\n",
    "    n_estimators=20,\n",
    "    subsample=.005)\n",
    "\n",
    "execute_ml(xgboost_clf)"
   ]
  },
  {
   "attachments": {},
   "cell_type": "markdown",
   "metadata": {},
   "source": [
    "## Support Vector Machine classifier"
   ]
  },
  {
   "attachments": {},
   "cell_type": "markdown",
   "metadata": {},
   "source": [
    "### Hyperparameter Tuning"
   ]
  },
  {
   "cell_type": "code",
   "execution_count": 253,
   "metadata": {},
   "outputs": [],
   "source": [
    "from sklearn import svm\n",
    "\n",
    "hyper_params = {}\n",
    "hyper_params['estimator__C']=list(range(1, 10)) + list(range(10, 100, 10))\n",
    "hyper_params['estimator__gamma']=list(np.logspace(-4, 0, 5)) + ['scale', 'auto']\n",
    "hyper_params['estimator__kernel'] = ['linear', 'poly', 'sigmoid', 'rbf']\n",
    "\n",
    "if hyper_param_tuning['SVM']:\n",
    "    grid_search(svm.SVC(), hyper_params) "
   ]
  },
  {
   "attachments": {},
   "cell_type": "markdown",
   "metadata": {},
   "source": [
    "### Overfit analysis"
   ]
  },
  {
   "cell_type": "code",
   "execution_count": 254,
   "metadata": {},
   "outputs": [],
   "source": [
    "from sklearn import svm\n",
    "\n",
    "values_range = list(range(1, 100, 5))\n",
    "\n",
    "if hyper_param_tuning['SVM']:\n",
    "    overfit_analysis(\n",
    "        svm.SVC(\n",
    "            gamma='auto',\n",
    "            kernel='sigmoid'),\n",
    "        'estimator__C',\n",
    "        values_range)"
   ]
  },
  {
   "attachments": {},
   "cell_type": "markdown",
   "metadata": {},
   "source": [
    "### Train and test"
   ]
  },
  {
   "cell_type": "code",
   "execution_count": 255,
   "metadata": {},
   "outputs": [],
   "source": [
    "from sklearn import svm\n",
    "\n",
    "svm_clf = svm.SVC(\n",
    "    C=1,\n",
    "    gamma='auto',\n",
    "    kernel='sigmoid')\n",
    "\n",
    "execute_ml(svm_clf)"
   ]
  },
  {
   "attachments": {},
   "cell_type": "markdown",
   "metadata": {},
   "source": [
    "## Multilayer perceptron"
   ]
  },
  {
   "attachments": {},
   "cell_type": "markdown",
   "metadata": {},
   "source": [
    "### Hyperparameter Tuning"
   ]
  },
  {
   "cell_type": "code",
   "execution_count": 256,
   "metadata": {},
   "outputs": [],
   "source": [
    "from sklearn.neural_network import MLPClassifier\n",
    "\n",
    "hyper_params = {}\n",
    "hyper_params['estimator__hidden_layer_sizes']=[\n",
    "    (100,), (50,), (25,),\n",
    "    (50,25),(100,50),\n",
    "    (100,50,25),\n",
    "    (100,50,25, 12),\n",
    "]\n",
    "hyper_params['estimator__max_iter']=[1500]\n",
    "hyper_params['estimator__random_state'] = [12]\n",
    "hyper_params['estimator__activation']=['tanh', 'relu', 'logistic']\n",
    "hyper_params['estimator__solver']=['sgd', 'adam', 'lbfgs']\n",
    "hyper_params['estimator__learning_rate']=['constant','adaptive','invscaling']\n",
    "\n",
    "if hyper_param_tuning['MLP']:\n",
    "    grid_search(MLPClassifier(), hyper_params)"
   ]
  },
  {
   "attachments": {},
   "cell_type": "markdown",
   "metadata": {},
   "source": [
    "### Overfit analysis"
   ]
  },
  {
   "cell_type": "code",
   "execution_count": 257,
   "metadata": {},
   "outputs": [],
   "source": [
    "from sklearn.neural_network import MLPClassifier\n",
    "\n",
    "values_range = np.linspace(0,.2,20)\n",
    "\n",
    "if hyper_param_tuning['MLP']:\n",
    "    overfit_analysis(\n",
    "        MLPClassifier(\n",
    "            activation='tanh',\n",
    "            hidden_layer_sizes=(100, 50, 25, 12),\n",
    "            learning_rate='constant',\n",
    "            max_iter=1500,\n",
    "            random_state=12,\n",
    "            solver='adam'),\n",
    "        'estimator__alpha',\n",
    "        values_range)"
   ]
  },
  {
   "attachments": {},
   "cell_type": "markdown",
   "metadata": {},
   "source": [
    "### Train and test"
   ]
  },
  {
   "cell_type": "code",
   "execution_count": 258,
   "metadata": {},
   "outputs": [],
   "source": [
    "from sklearn.neural_network import MLPClassifier\n",
    "\n",
    "mlp_clf = MLPClassifier(\n",
    "    activation='tanh',\n",
    "    hidden_layer_sizes=(25,),\n",
    "    learning_rate='adaptive',\n",
    "    max_iter=1500,\n",
    "    random_state=12,\n",
    "    solver='adam',\n",
    "    alpha=.04)\n",
    "\n",
    "execute_ml(mlp_clf)"
   ]
  },
  {
   "attachments": {},
   "cell_type": "markdown",
   "metadata": {},
   "source": [
    "### Learning rate"
   ]
  },
  {
   "cell_type": "code",
   "execution_count": 259,
   "metadata": {},
   "outputs": [
    {
     "data": {
      "image/png": "[encoded data removed]",
      "text/plain": [
       "<Figure size 640x480 with 1 Axes>"
      ]
     },
     "metadata": {},
     "output_type": "display_data"
    }
   ],
   "source": [
    "from sklearn.model_selection import learning_curve\n",
    "\n",
    "train_sizes, train_scores, test_scores = learning_curve(\n",
    "    mlp_clf, X, y,\n",
    "    cv=3,\n",
    "    n_jobs=-1,\n",
    "    random_state=12,)\n",
    "\n",
    "data = {\n",
    "    'train_size': list(train_sizes),\n",
    "    'train_accuracy': [cv.mean() for cv in train_scores],\n",
    "    'test_accuracy': [cv.mean() for cv in test_scores],\n",
    "}\n",
    "data_df = pd.melt(pd.DataFrame(data), \n",
    "                  id_vars='train_size', \n",
    "                  value_vars=['train_accuracy', 'test_accuracy'],\n",
    "                  var_name='Measurement',\n",
    "                  value_name='Percentage')\n",
    "\n",
    "sns.lineplot(data=data_df, x='train_size', y='Percentage', hue='Measurement');"
   ]
  },
  {
   "attachments": {},
   "cell_type": "markdown",
   "metadata": {},
   "source": [
    "# Evaluation"
   ]
  },
  {
   "cell_type": "code",
   "execution_count": 260,
   "metadata": {},
   "outputs": [
    {
     "data": {
      "text/html": [
       "<div>\n",
       "<style scoped>\n",
       "    .dataframe tbody tr th:only-of-type {\n",
       "        vertical-align: middle;\n",
       "    }\n",
       "\n",
       "    .dataframe tbody tr th {\n",
       "        vertical-align: top;\n",
       "    }\n",
       "\n",
       "    .dataframe thead th {\n",
       "        text-align: right;\n",
       "    }\n",
       "</style>\n",
       "<table border=\"1\" class=\"dataframe\">\n",
       "  <thead>\n",
       "    <tr style=\"text-align: right;\">\n",
       "      <th></th>\n",
       "      <th>Model</th>\n",
       "      <th>DataSet</th>\n",
       "      <th>Accuracy</th>\n",
       "      <th>Precision</th>\n",
       "      <th>Recall</th>\n",
       "      <th>f1-score</th>\n",
       "    </tr>\n",
       "  </thead>\n",
       "  <tbody>\n",
       "    <tr>\n",
       "      <th>0</th>\n",
       "      <td>KNeighborsClassifier</td>\n",
       "      <td>train</td>\n",
       "      <td>0.537813</td>\n",
       "      <td>0.538716</td>\n",
       "      <td>0.537816</td>\n",
       "      <td>0.537539</td>\n",
       "    </tr>\n",
       "    <tr>\n",
       "      <th>1</th>\n",
       "      <td>KNeighborsClassifier</td>\n",
       "      <td>test</td>\n",
       "      <td>0.463121</td>\n",
       "      <td>0.467128</td>\n",
       "      <td>0.463137</td>\n",
       "      <td>0.455722</td>\n",
       "    </tr>\n",
       "    <tr>\n",
       "      <th>2</th>\n",
       "      <td>LogisticRegression</td>\n",
       "      <td>train</td>\n",
       "      <td>0.476898</td>\n",
       "      <td>0.459213</td>\n",
       "      <td>0.476895</td>\n",
       "      <td>0.437848</td>\n",
       "    </tr>\n",
       "    <tr>\n",
       "      <th>3</th>\n",
       "      <td>LogisticRegression</td>\n",
       "      <td>test</td>\n",
       "      <td>0.473713</td>\n",
       "      <td>0.455085</td>\n",
       "      <td>0.473660</td>\n",
       "      <td>0.434983</td>\n",
       "    </tr>\n",
       "    <tr>\n",
       "      <th>4</th>\n",
       "      <td>RandomForestClassifier</td>\n",
       "      <td>train</td>\n",
       "      <td>0.486878</td>\n",
       "      <td>0.552908</td>\n",
       "      <td>0.486889</td>\n",
       "      <td>0.437020</td>\n",
       "    </tr>\n",
       "    <tr>\n",
       "      <th>5</th>\n",
       "      <td>RandomForestClassifier</td>\n",
       "      <td>test</td>\n",
       "      <td>0.460450</td>\n",
       "      <td>0.535031</td>\n",
       "      <td>0.460209</td>\n",
       "      <td>0.409391</td>\n",
       "    </tr>\n",
       "    <tr>\n",
       "      <th>6</th>\n",
       "      <td>XGBClassifier</td>\n",
       "      <td>train</td>\n",
       "      <td>0.454504</td>\n",
       "      <td>0.448048</td>\n",
       "      <td>0.454500</td>\n",
       "      <td>0.413086</td>\n",
       "    </tr>\n",
       "    <tr>\n",
       "      <th>7</th>\n",
       "      <td>XGBClassifier</td>\n",
       "      <td>test</td>\n",
       "      <td>0.444397</td>\n",
       "      <td>0.427067</td>\n",
       "      <td>0.444340</td>\n",
       "      <td>0.405441</td>\n",
       "    </tr>\n",
       "    <tr>\n",
       "      <th>8</th>\n",
       "      <td>SVC</td>\n",
       "      <td>train</td>\n",
       "      <td>0.366970</td>\n",
       "      <td>0.362995</td>\n",
       "      <td>0.366981</td>\n",
       "      <td>0.351314</td>\n",
       "    </tr>\n",
       "    <tr>\n",
       "      <th>9</th>\n",
       "      <td>SVC</td>\n",
       "      <td>test</td>\n",
       "      <td>0.386583</td>\n",
       "      <td>0.382364</td>\n",
       "      <td>0.386458</td>\n",
       "      <td>0.368153</td>\n",
       "    </tr>\n",
       "    <tr>\n",
       "      <th>10</th>\n",
       "      <td>MLPClassifier</td>\n",
       "      <td>train</td>\n",
       "      <td>0.527982</td>\n",
       "      <td>0.530299</td>\n",
       "      <td>0.527983</td>\n",
       "      <td>0.528721</td>\n",
       "    </tr>\n",
       "    <tr>\n",
       "      <th>11</th>\n",
       "      <td>MLPClassifier</td>\n",
       "      <td>test</td>\n",
       "      <td>0.501722</td>\n",
       "      <td>0.510174</td>\n",
       "      <td>0.501739</td>\n",
       "      <td>0.494759</td>\n",
       "    </tr>\n",
       "  </tbody>\n",
       "</table>\n",
       "</div>"
      ],
      "text/plain": [
       "                     Model DataSet  Accuracy  Precision    Recall  f1-score\n",
       "0     KNeighborsClassifier   train  0.537813   0.538716  0.537816  0.537539\n",
       "1     KNeighborsClassifier    test  0.463121   0.467128  0.463137  0.455722\n",
       "2       LogisticRegression   train  0.476898   0.459213  0.476895  0.437848\n",
       "3       LogisticRegression    test  0.473713   0.455085  0.473660  0.434983\n",
       "4   RandomForestClassifier   train  0.486878   0.552908  0.486889  0.437020\n",
       "5   RandomForestClassifier    test  0.460450   0.535031  0.460209  0.409391\n",
       "6            XGBClassifier   train  0.454504   0.448048  0.454500  0.413086\n",
       "7            XGBClassifier    test  0.444397   0.427067  0.444340  0.405441\n",
       "8                      SVC   train  0.366970   0.362995  0.366981  0.351314\n",
       "9                      SVC    test  0.386583   0.382364  0.386458  0.368153\n",
       "10           MLPClassifier   train  0.527982   0.530299  0.527983  0.528721\n",
       "11           MLPClassifier    test  0.501722   0.510174  0.501739  0.494759"
      ]
     },
     "metadata": {},
     "output_type": "display_data"
    }
   ],
   "source": [
    "from IPython.display import display\n",
    "with pd.option_context('display.max_rows', None, 'display.max_columns', None):\n",
    "    display(evaluation_df) "
   ]
  },
  {
   "cell_type": "code",
   "execution_count": 265,
   "metadata": {},
   "outputs": [
    {
     "data": {
      "image/png": "[encoded data removed]",
      "text/plain": [
       "<Figure size 640x480 with 1 Axes>"
      ]
     },
     "metadata": {},
     "output_type": "display_data"
    }
   ],
   "source": [
    "barplot = sns.barplot(\n",
    "    data=evaluation_df[evaluation_df['DataSet'] == 'train'],\n",
    "    x='Model', y='Accuracy', hue='DataSet')\n",
    "plt.legend([],[], frameon=False)\n",
    "plt.xticks(rotation=45);"
   ]
  },
  {
   "attachments": {},
   "cell_type": "markdown",
   "metadata": {},
   "source": [
    "# Selecting the optimal model"
   ]
  },
  {
   "cell_type": "code",
   "execution_count": 262,
   "metadata": {},
   "outputs": [
    {
     "data": {
      "text/html": [
       "<style>#sk-container-id-2 {color: black;background-color: white;}#sk-container-id-2 pre{padding: 0;}#sk-container-id-2 div.sk-toggleable {background-color: white;}#sk-container-id-2 label.sk-toggleable__label {cursor: pointer;display: block;width: 100%;margin-bottom: 0;padding: 0.3em;box-sizing: border-box;text-align: center;}#sk-container-id-2 label.sk-toggleable__label-arrow:before {content: \"▸\";float: left;margin-right: 0.25em;color: #696969;}#sk-container-id-2 label.sk-toggleable__label-arrow:hover:before {color: black;}#sk-container-id-2 div.sk-estimator:hover label.sk-toggleable__label-arrow:before {color: black;}#sk-container-id-2 div.sk-toggleable__content {max-height: 0;max-width: 0;overflow: hidden;text-align: left;background-color: #f0f8ff;}#sk-container-id-2 div.sk-toggleable__content pre {margin: 0.2em;color: black;border-radius: 0.25em;background-color: #f0f8ff;}#sk-container-id-2 input.sk-toggleable__control:checked~div.sk-toggleable__content {max-height: 200px;max-width: 100%;overflow: auto;}#sk-container-id-2 input.sk-toggleable__control:checked~label.sk-toggleable__label-arrow:before {content: \"▾\";}#sk-container-id-2 div.sk-estimator input.sk-toggleable__control:checked~label.sk-toggleable__label {background-color: #d4ebff;}#sk-container-id-2 div.sk-label input.sk-toggleable__control:checked~label.sk-toggleable__label {background-color: #d4ebff;}#sk-container-id-2 input.sk-hidden--visually {border: 0;clip: rect(1px 1px 1px 1px);clip: rect(1px, 1px, 1px, 1px);height: 1px;margin: -1px;overflow: hidden;padding: 0;position: absolute;width: 1px;}#sk-container-id-2 div.sk-estimator {font-family: monospace;background-color: #f0f8ff;border: 1px dotted black;border-radius: 0.25em;box-sizing: border-box;margin-bottom: 0.5em;}#sk-container-id-2 div.sk-estimator:hover {background-color: #d4ebff;}#sk-container-id-2 div.sk-parallel-item::after {content: \"\";width: 100%;border-bottom: 1px solid gray;flex-grow: 1;}#sk-container-id-2 div.sk-label:hover label.sk-toggleable__label {background-color: #d4ebff;}#sk-container-id-2 div.sk-serial::before {content: \"\";position: absolute;border-left: 1px solid gray;box-sizing: border-box;top: 0;bottom: 0;left: 50%;z-index: 0;}#sk-container-id-2 div.sk-serial {display: flex;flex-direction: column;align-items: center;background-color: white;padding-right: 0.2em;padding-left: 0.2em;position: relative;}#sk-container-id-2 div.sk-item {position: relative;z-index: 1;}#sk-container-id-2 div.sk-parallel {display: flex;align-items: stretch;justify-content: center;background-color: white;position: relative;}#sk-container-id-2 div.sk-item::before, #sk-container-id-2 div.sk-parallel-item::before {content: \"\";position: absolute;border-left: 1px solid gray;box-sizing: border-box;top: 0;bottom: 0;left: 50%;z-index: -1;}#sk-container-id-2 div.sk-parallel-item {display: flex;flex-direction: column;z-index: 1;position: relative;background-color: white;}#sk-container-id-2 div.sk-parallel-item:first-child::after {align-self: flex-end;width: 50%;}#sk-container-id-2 div.sk-parallel-item:last-child::after {align-self: flex-start;width: 50%;}#sk-container-id-2 div.sk-parallel-item:only-child::after {width: 0;}#sk-container-id-2 div.sk-dashed-wrapped {border: 1px dashed gray;margin: 0 0.4em 0.5em 0.4em;box-sizing: border-box;padding-bottom: 0.4em;background-color: white;}#sk-container-id-2 div.sk-label label {font-family: monospace;font-weight: bold;display: inline-block;line-height: 1.2em;}#sk-container-id-2 div.sk-label-container {text-align: center;}#sk-container-id-2 div.sk-container {/* jupyter's `normalize.less` sets `[hidden] { display: none; }` but bootstrap.min.css set `[hidden] { display: none !important; }` so we also need the `!important` here to be able to override the default hidden behavior on the sphinx rendered scikit-learn.org. See: https://github.com/scikit-learn/scikit-learn/issues/21755 */display: inline-block !important;position: relative;}#sk-container-id-2 div.sk-text-repr-fallback {display: none;}</style><div id=\"sk-container-id-2\" class=\"sk-top-container\"><div class=\"sk-text-repr-fallback\"><pre>Pipeline(steps=[(&#x27;transformer&#x27;,\n",
       "                 ColumnTransformer(remainder=&#x27;passthrough&#x27;,\n",
       "                                   transformers=[(&#x27;scaler&#x27;, StandardScaler(),\n",
       "                                                  [&#x27;team_fulltime_goals&#x27;,\n",
       "                                                   &#x27;team_win_bet365_probs&#x27;,\n",
       "                                                   &#x27;team_pre_rating&#x27;,\n",
       "                                                   &#x27;team_possession&#x27;,\n",
       "                                                   &#x27;team_total_shots&#x27;,\n",
       "                                                   &#x27;team_shots_on_target&#x27;,\n",
       "                                                   &#x27;team_passing_percent&#x27;,\n",
       "                                                   &#x27;team_clear_cut_chances&#x27;,\n",
       "                                                   &#x27;team_corners&#x27;,\n",
       "                                                   &#x27;team_offsides&#x27;,\n",
       "                                                   &#x27;team_fouls_committed&#x27;,\n",
       "                                                   &#x27;team_xg&#x27;...\n",
       "                                                   &#x27;opponent_total_shots&#x27;,\n",
       "                                                   &#x27;opponent_shots_on_target&#x27;,\n",
       "                                                   &#x27;opponent_passing_percent&#x27;,\n",
       "                                                   &#x27;opponent_clear_cut_chances&#x27;,\n",
       "                                                   &#x27;opponent_corners&#x27;,\n",
       "                                                   &#x27;opponent_offsides&#x27;,\n",
       "                                                   &#x27;opponent_fouls_committed&#x27;,\n",
       "                                                   &#x27;opponent_xg&#x27;])])),\n",
       "                (&#x27;pca&#x27;, PCA(n_components=3)),\n",
       "                (&#x27;estimator&#x27;,\n",
       "                 MLPClassifier(activation=&#x27;tanh&#x27;, alpha=0.04,\n",
       "                               hidden_layer_sizes=(25,),\n",
       "                               learning_rate=&#x27;adaptive&#x27;, max_iter=1500,\n",
       "                               random_state=12))])</pre><b>In a Jupyter environment, please rerun this cell to show the HTML representation or trust the notebook. <br />On GitHub, the HTML representation is unable to render, please try loading this page with nbviewer.org.</b></div><div class=\"sk-container\" hidden><div class=\"sk-item sk-dashed-wrapped\"><div class=\"sk-label-container\"><div class=\"sk-label sk-toggleable\"><input class=\"sk-toggleable__control sk-hidden--visually\" id=\"sk-estimator-id-8\" type=\"checkbox\" ><label for=\"sk-estimator-id-8\" class=\"sk-toggleable__label sk-toggleable__label-arrow\">Pipeline</label><div class=\"sk-toggleable__content\"><pre>Pipeline(steps=[(&#x27;transformer&#x27;,\n",
       "                 ColumnTransformer(remainder=&#x27;passthrough&#x27;,\n",
       "                                   transformers=[(&#x27;scaler&#x27;, StandardScaler(),\n",
       "                                                  [&#x27;team_fulltime_goals&#x27;,\n",
       "                                                   &#x27;team_win_bet365_probs&#x27;,\n",
       "                                                   &#x27;team_pre_rating&#x27;,\n",
       "                                                   &#x27;team_possession&#x27;,\n",
       "                                                   &#x27;team_total_shots&#x27;,\n",
       "                                                   &#x27;team_shots_on_target&#x27;,\n",
       "                                                   &#x27;team_passing_percent&#x27;,\n",
       "                                                   &#x27;team_clear_cut_chances&#x27;,\n",
       "                                                   &#x27;team_corners&#x27;,\n",
       "                                                   &#x27;team_offsides&#x27;,\n",
       "                                                   &#x27;team_fouls_committed&#x27;,\n",
       "                                                   &#x27;team_xg&#x27;...\n",
       "                                                   &#x27;opponent_total_shots&#x27;,\n",
       "                                                   &#x27;opponent_shots_on_target&#x27;,\n",
       "                                                   &#x27;opponent_passing_percent&#x27;,\n",
       "                                                   &#x27;opponent_clear_cut_chances&#x27;,\n",
       "                                                   &#x27;opponent_corners&#x27;,\n",
       "                                                   &#x27;opponent_offsides&#x27;,\n",
       "                                                   &#x27;opponent_fouls_committed&#x27;,\n",
       "                                                   &#x27;opponent_xg&#x27;])])),\n",
       "                (&#x27;pca&#x27;, PCA(n_components=3)),\n",
       "                (&#x27;estimator&#x27;,\n",
       "                 MLPClassifier(activation=&#x27;tanh&#x27;, alpha=0.04,\n",
       "                               hidden_layer_sizes=(25,),\n",
       "                               learning_rate=&#x27;adaptive&#x27;, max_iter=1500,\n",
       "                               random_state=12))])</pre></div></div></div><div class=\"sk-serial\"><div class=\"sk-item sk-dashed-wrapped\"><div class=\"sk-label-container\"><div class=\"sk-label sk-toggleable\"><input class=\"sk-toggleable__control sk-hidden--visually\" id=\"sk-estimator-id-9\" type=\"checkbox\" ><label for=\"sk-estimator-id-9\" class=\"sk-toggleable__label sk-toggleable__label-arrow\">transformer: ColumnTransformer</label><div class=\"sk-toggleable__content\"><pre>ColumnTransformer(remainder=&#x27;passthrough&#x27;,\n",
       "                  transformers=[(&#x27;scaler&#x27;, StandardScaler(),\n",
       "                                 [&#x27;team_fulltime_goals&#x27;,\n",
       "                                  &#x27;team_win_bet365_probs&#x27;, &#x27;team_pre_rating&#x27;,\n",
       "                                  &#x27;team_possession&#x27;, &#x27;team_total_shots&#x27;,\n",
       "                                  &#x27;team_shots_on_target&#x27;,\n",
       "                                  &#x27;team_passing_percent&#x27;,\n",
       "                                  &#x27;team_clear_cut_chances&#x27;, &#x27;team_corners&#x27;,\n",
       "                                  &#x27;team_offsides&#x27;, &#x27;team_fouls_committed&#x27;,\n",
       "                                  &#x27;team_xg&#x27;, &#x27;opponent_fulltime_goals&#x27;,\n",
       "                                  &#x27;opponent_win_bet365_probs&#x27;,\n",
       "                                  &#x27;opponent_pre_rating&#x27;, &#x27;opponent_possession&#x27;,\n",
       "                                  &#x27;opponent_total_shots&#x27;,\n",
       "                                  &#x27;opponent_shots_on_target&#x27;,\n",
       "                                  &#x27;opponent_passing_percent&#x27;,\n",
       "                                  &#x27;opponent_clear_cut_chances&#x27;,\n",
       "                                  &#x27;opponent_corners&#x27;, &#x27;opponent_offsides&#x27;,\n",
       "                                  &#x27;opponent_fouls_committed&#x27;, &#x27;opponent_xg&#x27;])])</pre></div></div></div><div class=\"sk-parallel\"><div class=\"sk-parallel-item\"><div class=\"sk-item\"><div class=\"sk-label-container\"><div class=\"sk-label sk-toggleable\"><input class=\"sk-toggleable__control sk-hidden--visually\" id=\"sk-estimator-id-10\" type=\"checkbox\" ><label for=\"sk-estimator-id-10\" class=\"sk-toggleable__label sk-toggleable__label-arrow\">scaler</label><div class=\"sk-toggleable__content\"><pre>[&#x27;team_fulltime_goals&#x27;, &#x27;team_win_bet365_probs&#x27;, &#x27;team_pre_rating&#x27;, &#x27;team_possession&#x27;, &#x27;team_total_shots&#x27;, &#x27;team_shots_on_target&#x27;, &#x27;team_passing_percent&#x27;, &#x27;team_clear_cut_chances&#x27;, &#x27;team_corners&#x27;, &#x27;team_offsides&#x27;, &#x27;team_fouls_committed&#x27;, &#x27;team_xg&#x27;, &#x27;opponent_fulltime_goals&#x27;, &#x27;opponent_win_bet365_probs&#x27;, &#x27;opponent_pre_rating&#x27;, &#x27;opponent_possession&#x27;, &#x27;opponent_total_shots&#x27;, &#x27;opponent_shots_on_target&#x27;, &#x27;opponent_passing_percent&#x27;, &#x27;opponent_clear_cut_chances&#x27;, &#x27;opponent_corners&#x27;, &#x27;opponent_offsides&#x27;, &#x27;opponent_fouls_committed&#x27;, &#x27;opponent_xg&#x27;]</pre></div></div></div><div class=\"sk-serial\"><div class=\"sk-item\"><div class=\"sk-estimator sk-toggleable\"><input class=\"sk-toggleable__control sk-hidden--visually\" id=\"sk-estimator-id-11\" type=\"checkbox\" ><label for=\"sk-estimator-id-11\" class=\"sk-toggleable__label sk-toggleable__label-arrow\">StandardScaler</label><div class=\"sk-toggleable__content\"><pre>StandardScaler()</pre></div></div></div></div></div></div><div class=\"sk-parallel-item\"><div class=\"sk-item\"><div class=\"sk-label-container\"><div class=\"sk-label sk-toggleable\"><input class=\"sk-toggleable__control sk-hidden--visually\" id=\"sk-estimator-id-12\" type=\"checkbox\" ><label for=\"sk-estimator-id-12\" class=\"sk-toggleable__label sk-toggleable__label-arrow\">remainder</label><div class=\"sk-toggleable__content\"><pre>[&#x27;is_home&#x27;]</pre></div></div></div><div class=\"sk-serial\"><div class=\"sk-item\"><div class=\"sk-estimator sk-toggleable\"><input class=\"sk-toggleable__control sk-hidden--visually\" id=\"sk-estimator-id-13\" type=\"checkbox\" ><label for=\"sk-estimator-id-13\" class=\"sk-toggleable__label sk-toggleable__label-arrow\">passthrough</label><div class=\"sk-toggleable__content\"><pre>passthrough</pre></div></div></div></div></div></div></div></div><div class=\"sk-item\"><div class=\"sk-estimator sk-toggleable\"><input class=\"sk-toggleable__control sk-hidden--visually\" id=\"sk-estimator-id-14\" type=\"checkbox\" ><label for=\"sk-estimator-id-14\" class=\"sk-toggleable__label sk-toggleable__label-arrow\">PCA</label><div class=\"sk-toggleable__content\"><pre>PCA(n_components=3)</pre></div></div></div><div class=\"sk-item\"><div class=\"sk-estimator sk-toggleable\"><input class=\"sk-toggleable__control sk-hidden--visually\" id=\"sk-estimator-id-15\" type=\"checkbox\" ><label for=\"sk-estimator-id-15\" class=\"sk-toggleable__label sk-toggleable__label-arrow\">MLPClassifier</label><div class=\"sk-toggleable__content\"><pre>MLPClassifier(activation=&#x27;tanh&#x27;, alpha=0.04, hidden_layer_sizes=(25,),\n",
       "              learning_rate=&#x27;adaptive&#x27;, max_iter=1500, random_state=12)</pre></div></div></div></div></div></div></div>"
      ],
      "text/plain": [
       "Pipeline(steps=[('transformer',\n",
       "                 ColumnTransformer(remainder='passthrough',\n",
       "                                   transformers=[('scaler', StandardScaler(),\n",
       "                                                  ['team_fulltime_goals',\n",
       "                                                   'team_win_bet365_probs',\n",
       "                                                   'team_pre_rating',\n",
       "                                                   'team_possession',\n",
       "                                                   'team_total_shots',\n",
       "                                                   'team_shots_on_target',\n",
       "                                                   'team_passing_percent',\n",
       "                                                   'team_clear_cut_chances',\n",
       "                                                   'team_corners',\n",
       "                                                   'team_offsides',\n",
       "                                                   'team_fouls_committed',\n",
       "                                                   'team_xg'...\n",
       "                                                   'opponent_total_shots',\n",
       "                                                   'opponent_shots_on_target',\n",
       "                                                   'opponent_passing_percent',\n",
       "                                                   'opponent_clear_cut_chances',\n",
       "                                                   'opponent_corners',\n",
       "                                                   'opponent_offsides',\n",
       "                                                   'opponent_fouls_committed',\n",
       "                                                   'opponent_xg'])])),\n",
       "                ('pca', PCA(n_components=3)),\n",
       "                ('estimator',\n",
       "                 MLPClassifier(activation='tanh', alpha=0.04,\n",
       "                               hidden_layer_sizes=(25,),\n",
       "                               learning_rate='adaptive', max_iter=1500,\n",
       "                               random_state=12))])"
      ]
     },
     "execution_count": 262,
     "metadata": {},
     "output_type": "execute_result"
    }
   ],
   "source": [
    "# Selecting the model with the best performance\n",
    "pipeline = get_pipeline(mlp_clf)\n",
    "\n",
    "# Training the selected model with all of the data (including the test set)\n",
    "pipeline.fit(X, y)"
   ]
  },
  {
   "attachments": {},
   "cell_type": "markdown",
   "metadata": {},
   "source": [
    "# Exporting the trained model"
   ]
  },
  {
   "attachments": {},
   "cell_type": "markdown",
   "metadata": {},
   "source": [
    "In order to avoid training the model each time a prediction is needed, the trained model is saved into a file and from then on, for each prediction, the already trained model is loaded from the file and used."
   ]
  },
  {
   "cell_type": "code",
   "execution_count": 263,
   "metadata": {},
   "outputs": [
    {
     "data": {
      "text/plain": [
       "['./trained_models/model_ordinary.joblib']"
      ]
     },
     "execution_count": 263,
     "metadata": {},
     "output_type": "execute_result"
    }
   ],
   "source": [
    "import joblib\n",
    "\n",
    "# Saving the trained model into a file\n",
    "joblib.dump(pipeline, \"./trained_models/model_ordinary.joblib\")"
   ]
  }
 ],
 "metadata": {
  "kernelspec": {
   "display_name": "Python 3",
   "language": "python",
   "name": "python3"
  },
  "language_info": {
   "codemirror_mode": {
    "name": "ipython",
    "version": 3
   },
   "file_extension": ".py",
   "mimetype": "text/x-python",
   "name": "python",
   "nbconvert_exporter": "python",
   "pygments_lexer": "ipython3",
   "version": "3.10.9"
  },
  "orig_nbformat": 4
 },
 "nbformat": 4,
 "nbformat_minor": 2
}
