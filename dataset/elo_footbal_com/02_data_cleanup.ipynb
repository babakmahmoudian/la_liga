{
 "cells": [
  {
   "cell_type": "code",
   "execution_count": 54,
   "metadata": {},
   "outputs": [],
   "source": [
    "import pandas as pd"
   ]
  },
  {
   "cell_type": "code",
   "execution_count": 55,
   "metadata": {},
   "outputs": [],
   "source": [
    "df = pd.read_csv('./initial_ds/ratings.csv')"
   ]
  },
  {
   "cell_type": "markdown",
   "metadata": {},
   "source": [
    "# Data clean up"
   ]
  },
  {
   "attachments": {},
   "cell_type": "markdown",
   "metadata": {},
   "source": [
    "## Removing data for irrelevant leagues"
   ]
  },
  {
   "cell_type": "code",
   "execution_count": 56,
   "metadata": {},
   "outputs": [
    {
     "data": {
      "text/plain": [
       "array(['Segunda Division ', 'Copa del Rey ', 'Champions League ',\n",
       "       'Primera Division ', 'Europa League ', 'Champions League q. ',\n",
       "       'Supercopa ', 'Intertoto Cup ', 'Supercup ', 'Europa League q. ',\n",
       "       'Primera Division rel. ', 'Europa Conf. League ',\n",
       "       'Europa Conf. League q. '], dtype=object)"
      ]
     },
     "execution_count": 56,
     "metadata": {},
     "output_type": "execute_result"
    }
   ],
   "source": [
    "df['division'].unique()"
   ]
  },
  {
   "cell_type": "code",
   "execution_count": 57,
   "metadata": {},
   "outputs": [],
   "source": [
    "df = df.replace({\n",
    "    'Segunda Division ': 'segunda',\n",
    "    'Primera Division ': 'primera'\n",
    "})\n",
    "\n",
    "df = df[df['division'].isin(['segunda', 'primera'])]"
   ]
  },
  {
   "cell_type": "markdown",
   "metadata": {},
   "source": [
    "## Processing the match dates"
   ]
  },
  {
   "cell_type": "markdown",
   "metadata": {},
   "source": [
    "The date column must be converted into DateTime64 format."
   ]
  },
  {
   "cell_type": "code",
   "execution_count": 58,
   "metadata": {},
   "outputs": [],
   "source": [
    "df['date'] = pd.to_datetime(df['date'])"
   ]
  },
  {
   "cell_type": "markdown",
   "metadata": {},
   "source": [
    "## Dropping redundant data"
   ]
  },
  {
   "cell_type": "markdown",
   "metadata": {},
   "source": [
    "The two unused columns must be dropped."
   ]
  },
  {
   "cell_type": "code",
   "execution_count": 59,
   "metadata": {},
   "outputs": [],
   "source": [
    "df = df.drop(['unused_1', 'unused_2'], axis='columns')"
   ]
  },
  {
   "cell_type": "markdown",
   "metadata": {},
   "source": [
    "The probability columns are based on merely the difference in the ratings of the two teams; hence they are not very accurate and may be dropped."
   ]
  },
  {
   "cell_type": "code",
   "execution_count": 60,
   "metadata": {},
   "outputs": [],
   "source": [
    "df = df.drop(['prob_h', 'prob_d', 'prob_a'], axis='columns')"
   ]
  },
  {
   "cell_type": "markdown",
   "metadata": {},
   "source": [
    "Some matches are set to be held later and have not happened yet; those are to be removed from the dataset."
   ]
  },
  {
   "cell_type": "code",
   "execution_count": 61,
   "metadata": {},
   "outputs": [],
   "source": [
    "df = df[\n",
    "    (df['date'] <= pd.to_datetime('today')) &\n",
    "    (df['result'] != '')]"
   ]
  },
  {
   "cell_type": "markdown",
   "metadata": {},
   "source": [
    "The result of the match is already available in other datasets and is redundant, so it must be dropped as well."
   ]
  },
  {
   "cell_type": "code",
   "execution_count": 62,
   "metadata": {},
   "outputs": [],
   "source": [
    "df = df.drop('result', axis='columns')"
   ]
  },
  {
   "attachments": {},
   "cell_type": "markdown",
   "metadata": {},
   "source": [
    "## Converting the ratings to integers"
   ]
  },
  {
   "cell_type": "markdown",
   "metadata": {},
   "source": [
    "The rating columns must all be converted to Int64"
   ]
  },
  {
   "cell_type": "code",
   "execution_count": 64,
   "metadata": {},
   "outputs": [],
   "source": [
    "rating_cols = [\n",
    "    'home_pre_rating', \n",
    "    'home_rating_delta',\n",
    "    'home_post_rating',\n",
    "    'away_pre_rating',\n",
    "    'away_rating_delta',\n",
    "    'away_post_rating'\n",
    "]\n",
    "\n",
    "for col in rating_cols:\n",
    "    df[col] = df[col].astype('Int64')"
   ]
  },
  {
   "cell_type": "markdown",
   "metadata": {},
   "source": [
    "## Making team names consistent"
   ]
  },
  {
   "cell_type": "code",
   "execution_count": null,
   "metadata": {},
   "outputs": [
    {
     "data": {
      "text/plain": [
       "Valencia CF            449\n",
       "Athletic Bilbao        449\n",
       "FC Barcelona           448\n",
       "Real Madrid            448\n",
       "Sevilla FC             430\n",
       "Espanyol Barcelona     430\n",
       "Villarreal CF          410\n",
       "Atlético Madrid        410\n",
       "Real Sociedad          391\n",
       "Real Betis             372\n",
       "CA Osasuna             353\n",
       "Getafe CF              335\n",
       "Celta Vigo             335\n",
       "Málaga CF              323\n",
       "Deportivo La Coruña    323\n",
       "RCD Mallorca           315\n",
       "Levante UD             266\n",
       "Real Valladolid        258\n",
       "Racing Santander       228\n",
       "Real Zaragoza          228\n",
       "Rayo Vallecano         220\n",
       "CD Alavés              209\n",
       "Granada CF             171\n",
       "SD Eibar               133\n",
       "UD Almería             126\n",
       "Sporting Gijón         114\n",
       "UD Las Palmas           95\n",
       "Elche CF                88\n",
       "Recreativo Huelva       76\n",
       "CD Numancia             76\n",
       "CD Leganés              76\n",
       "Cádiz CF                69\n",
       "Girona FC               50\n",
       "Real Murcia             38\n",
       "Albacete                38\n",
       "CD Tenerife             38\n",
       "Real Oviedo             38\n",
       "SD Huesca               38\n",
       "Gimnàstic               19\n",
       "Xerez CD                19\n",
       "Hércules CF             19\n",
       "Córdoba CF              19\n",
       "Name: home, dtype: int64"
      ]
     },
     "metadata": {},
     "output_type": "display_data"
    }
   ],
   "source": [
    "df[df['division'] == 'primera']['home'].value_counts()"
   ]
  }
 ],
 "metadata": {
  "kernelspec": {
   "display_name": "Python 3",
   "language": "python",
   "name": "python3"
  },
  "language_info": {
   "codemirror_mode": {
    "name": "ipython",
    "version": 3
   },
   "file_extension": ".py",
   "mimetype": "text/x-python",
   "name": "python",
   "nbconvert_exporter": "python",
   "pygments_lexer": "ipython3",
   "version": "3.10.9"
  },
  "orig_nbformat": 4,
  "vscode": {
   "interpreter": {
    "hash": "83d208b031a4a5a0824f5f0b47c0388aa3b94cdd004c2f68e4341ab470ede466"
   }
  }
 },
 "nbformat": 4,
 "nbformat_minor": 2
}
