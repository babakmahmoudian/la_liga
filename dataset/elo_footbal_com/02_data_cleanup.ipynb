{
 "cells": [
  {
   "cell_type": "code",
   "execution_count": 42,
   "metadata": {},
   "outputs": [],
   "source": [
    "import pandas as pd"
   ]
  },
  {
   "cell_type": "code",
   "execution_count": 43,
   "metadata": {},
   "outputs": [],
   "source": [
    "df = pd.read_csv('./initial_ds/ratings.csv')"
   ]
  },
  {
   "cell_type": "markdown",
   "metadata": {},
   "source": [
    "# Data clean up"
   ]
  },
  {
   "attachments": {},
   "cell_type": "markdown",
   "metadata": {},
   "source": [
    "## Removing data for irrelevant leagues"
   ]
  },
  {
   "cell_type": "code",
   "execution_count": 44,
   "metadata": {},
   "outputs": [
    {
     "data": {
      "text/plain": [
       "array(['Segunda Division ', 'Copa del Rey ', 'Champions League ',\n",
       "       'Primera Division ', 'Europa League ', 'Champions League q. ',\n",
       "       'Supercopa ', 'Intertoto Cup ', 'Supercup ', 'Europa League q. ',\n",
       "       'Primera Division rel. ', 'Europa Conf. League ',\n",
       "       'Europa Conf. League q. '], dtype=object)"
      ]
     },
     "execution_count": 44,
     "metadata": {},
     "output_type": "execute_result"
    }
   ],
   "source": [
    "df['division'].unique()"
   ]
  },
  {
   "cell_type": "code",
   "execution_count": 45,
   "metadata": {},
   "outputs": [],
   "source": [
    "df = df[df['division'] == 'Primera Division ']"
   ]
  },
  {
   "cell_type": "markdown",
   "metadata": {},
   "source": [
    "## Processing the match dates"
   ]
  },
  {
   "cell_type": "markdown",
   "metadata": {},
   "source": [
    "The date column must be converted into DateTime64 format."
   ]
  },
  {
   "cell_type": "code",
   "execution_count": 46,
   "metadata": {},
   "outputs": [],
   "source": [
    "df['date'] = pd.to_datetime(df['date'])"
   ]
  },
  {
   "cell_type": "markdown",
   "metadata": {},
   "source": [
    "## Dropping redundant data"
   ]
  },
  {
   "attachments": {},
   "cell_type": "markdown",
   "metadata": {},
   "source": [
    "The division column only contains the value 'Primera Division ', so it can be dropped."
   ]
  },
  {
   "cell_type": "code",
   "execution_count": 47,
   "metadata": {},
   "outputs": [],
   "source": [
    "df = df.drop('division', axis='columns')"
   ]
  },
  {
   "cell_type": "markdown",
   "metadata": {},
   "source": [
    "The two unused columns must be dropped."
   ]
  },
  {
   "cell_type": "code",
   "execution_count": 48,
   "metadata": {},
   "outputs": [],
   "source": [
    "df = df.drop(['unused_1', 'unused_2'], axis='columns')"
   ]
  },
  {
   "cell_type": "markdown",
   "metadata": {},
   "source": [
    "The probability columns are based on merely the difference in the ratings of the two teams; hence they are not very accurate and may be dropped."
   ]
  },
  {
   "cell_type": "code",
   "execution_count": 49,
   "metadata": {},
   "outputs": [],
   "source": [
    "df = df.drop(['prob_h', 'prob_d', 'prob_a'], axis='columns')"
   ]
  },
  {
   "cell_type": "markdown",
   "metadata": {},
   "source": [
    "Some matches are set to be held later and have not happened yet; those are to be removed from the dataset."
   ]
  },
  {
   "cell_type": "code",
   "execution_count": 50,
   "metadata": {},
   "outputs": [],
   "source": [
    "df = df[\n",
    "    (df['date'] <= pd.to_datetime('today')) &\n",
    "    (df['result'] != '')]"
   ]
  },
  {
   "cell_type": "markdown",
   "metadata": {},
   "source": [
    "The result of the match is already available in other datasets and is redundant, so it must be dropped as well."
   ]
  },
  {
   "cell_type": "code",
   "execution_count": 51,
   "metadata": {},
   "outputs": [],
   "source": [
    "df = df.drop('result', axis='columns')"
   ]
  },
  {
   "attachments": {},
   "cell_type": "markdown",
   "metadata": {},
   "source": [
    "## Converting the ratings to integers"
   ]
  },
  {
   "cell_type": "markdown",
   "metadata": {},
   "source": [
    "The rating columns must all be converted to Int64"
   ]
  },
  {
   "cell_type": "code",
   "execution_count": 52,
   "metadata": {},
   "outputs": [],
   "source": [
    "rating_cols = [\n",
    "    'home_pre_rating', \n",
    "    'home_rating_delta',\n",
    "    'home_post_rating',\n",
    "    'away_pre_rating',\n",
    "    'away_rating_delta',\n",
    "    'away_post_rating'\n",
    "]\n",
    "\n",
    "for col in rating_cols:\n",
    "    df[col] = df[col].astype('Int64')"
   ]
  },
  {
   "cell_type": "code",
   "execution_count": 53,
   "metadata": {},
   "outputs": [],
   "source": [
    "# Saving the cleaned up dataset"
   ]
  },
  {
   "cell_type": "code",
   "execution_count": 54,
   "metadata": {},
   "outputs": [],
   "source": [
    "df.to_csv(\"./processed_ds/ratings.csv\", index=False)"
   ]
  },
  {
   "attachments": {},
   "cell_type": "markdown",
   "metadata": {},
   "source": [
    "## Extracting the team names\n",
    "These team names will be the reference for making all the team names across all datasets consistent"
   ]
  },
  {
   "cell_type": "code",
   "execution_count": 55,
   "metadata": {},
   "outputs": [
    {
     "data": {
      "text/plain": [
       "Valencia CF            897\n",
       "FC Barcelona           897\n",
       "Real Madrid            897\n",
       "Athletic Bilbao        897\n",
       "Sevilla FC             859\n",
       "Espanyol Barcelona     859\n",
       "Villarreal CF          821\n",
       "Atlético Madrid        821\n",
       "Real Sociedad          783\n",
       "Real Betis             745\n",
       "CA Osasuna             707\n",
       "Getafe CF              669\n",
       "Celta Vigo             669\n",
       "Málaga CF              646\n",
       "Deportivo La Coruña    646\n",
       "RCD Mallorca           631\n",
       "Levante UD             532\n",
       "Real Valladolid        517\n",
       "Racing Santander       456\n",
       "Real Zaragoza          456\n",
       "Rayo Vallecano         441\n",
       "CD Alavés              418\n",
       "Granada CF             342\n",
       "SD Eibar               266\n",
       "UD Almería             251\n",
       "Sporting Gijón         228\n",
       "UD Las Palmas          190\n",
       "Elche CF               175\n",
       "Recreativo Huelva      152\n",
       "CD Numancia            152\n",
       "CD Leganés             152\n",
       "Cádiz CF               137\n",
       "Girona FC               99\n",
       "Real Murcia             76\n",
       "Albacete                76\n",
       "CD Tenerife             76\n",
       "Real Oviedo             76\n",
       "SD Huesca               76\n",
       "Gimnàstic               38\n",
       "Xerez CD                38\n",
       "Hércules CF             38\n",
       "Córdoba CF              38\n",
       "Name: value, dtype: int64"
      ]
     },
     "execution_count": 55,
     "metadata": {},
     "output_type": "execute_result"
    }
   ],
   "source": [
    "# Getting all the team names and their frequencies from both home and away columns\n",
    "pd.melt(df, ['date'], ['home', 'away'])['value'].value_counts()"
   ]
  }
 ],
 "metadata": {
  "kernelspec": {
   "display_name": "Python 3",
   "language": "python",
   "name": "python3"
  },
  "language_info": {
   "codemirror_mode": {
    "name": "ipython",
    "version": 3
   },
   "file_extension": ".py",
   "mimetype": "text/x-python",
   "name": "python",
   "nbconvert_exporter": "python",
   "pygments_lexer": "ipython3",
   "version": "3.10.9"
  },
  "orig_nbformat": 4,
  "vscode": {
   "interpreter": {
    "hash": "83d208b031a4a5a0824f5f0b47c0388aa3b94cdd004c2f68e4341ab470ede466"
   }
  }
 },
 "nbformat": 4,
 "nbformat_minor": 2
}
