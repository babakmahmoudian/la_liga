{
 "cells": [
  {
   "attachments": {},
   "cell_type": "markdown",
   "metadata": {},
   "source": [
    "All data downloaded from https://www.skysports.com/"
   ]
  },
  {
   "cell_type": "code",
   "execution_count": 1,
   "metadata": {},
   "outputs": [],
   "source": [
    "league_seasons = [f\"{2000+year}-{year+1}\" for year in range(17, 22)]"
   ]
  },
  {
   "cell_type": "code",
   "execution_count": 2,
   "metadata": {},
   "outputs": [
    {
     "name": "stderr",
     "output_type": "stream",
     "text": [
      "[WDM] - Downloading: 100%|██████████| 6.80M/6.80M [00:02<00:00, 2.80MB/s]\n"
     ]
    }
   ],
   "source": [
    "import pandas as pd\n",
    "from bs4 import BeautifulSoup\n",
    "from selenium import webdriver\n",
    "from selenium.webdriver.chrome.service import Service\n",
    "from webdriver_manager.chrome import ChromeDriverManager\n",
    "from selenium.webdriver.common.by import By\n",
    "from selenium.webdriver.support.wait import WebDriverWait\n",
    "from selenium.webdriver.support import expected_conditions as EC\n",
    "\n",
    "# Initiating a new Google Chrome window\n",
    "driver = webdriver.Chrome(service=Service(ChromeDriverManager().install()))\n",
    "\n",
    "# The function below extracts the games of any given season of La Liga and\n",
    "# returns the output in the form of a dataframe\n",
    "def extract_games(league_season):\n",
    "    # The URL is shapes in the form of\n",
    "    # https://www.skysports.com/la-liga-results/2011-12\n",
    "    url = f\"https://www.skysports.com/la-liga-results/{league_season}\"\n",
    "    \n",
    "    # Retrieving the URL in the Chrome window\n",
    "    driver.get(url)\n",
    "    \n",
    "    # When the page loads, the table's empty and is later filled by AJAX calls.\n",
    "    # So, we wait until there is an element by the id of for instance\n",
    "    # \"widgetLite-5\" available on the page before proceeding to\n",
    "    # extract the table.\n",
    "    # The availability of the said element shows that the table is fully loaded\n",
    "    # and filled.\n",
    "    element = WebDriverWait(driver, 20).until(\n",
    "        EC.presence_of_element_located((By.ID, 'widgetLite-10'))\n",
    "    )\n",
    "\n",
    "    # These are elements initially displayed on the page\n",
    "    visible_elements = BeautifulSoup(driver.page_source, 'lxml')\n",
    "\n",
    "    # These are elements that are hidden inside a script for the \"show more\" button\n",
    "    hidden_elements = BeautifulSoup(\n",
    "        driver.find_element(By.CSS_SELECTOR, 'script[data-role=\"load-more-content\"]').get_attribute('innerHTML'),\n",
    "        'lxml')\n",
    "    \n",
    "    # Listing all the 'DIV' tags each containing the data for a single match\n",
    "    all_match_divs = (visible_elements.findAll('div', attrs={\"class\": 'fixres__item'}) +\n",
    "                   hidden_elements.find_all('div', attrs={\"class\": 'fixres__item'}))\n",
    "    \n",
    "    # Going through all the matches and extracting each one's info\n",
    "    last_date = ''\n",
    "    all_matches = []\n",
    "    for match_div in all_match_divs:\n",
    "        # The link to the match's specific webpage\n",
    "        stats_link = match_div.find('a').get('href')\n",
    "        \n",
    "        # The names of the two teams\n",
    "        team_names = [team.text for team in match_div.findAll('span', attrs={\"class\": 'swap-text__target'})]\n",
    "        \n",
    "        # If the previous sibling of the current 'DIV' element (single match) is an 'h4' element, get the\n",
    "        # date of the match from it, otherwise the date of the match is the same as the previous match.\n",
    "        if match_div.previous_sibling is None:\n",
    "            match_date = last_date\n",
    "        else:\n",
    "            previous_element = match_div.previous_sibling.previous_sibling\n",
    "            if previous_element.name == 'h4':\n",
    "                match_date = previous_element.text \n",
    "                last_date = match_date\n",
    "            else:\n",
    "                match_date = last_date\n",
    "        \n",
    "        # Appending the data of the current match to the list of all matches\n",
    "        all_matches.append([\n",
    "            league_season,\n",
    "            match_date,\n",
    "            team_names[0],\n",
    "            team_names[1],\n",
    "            stats_link\n",
    "        ])\n",
    "\n",
    "    result = pd.DataFrame(all_matches, columns=[\n",
    "        'season',\n",
    "        'date',\n",
    "        'home',\n",
    "        'away',\n",
    "        'link'])\n",
    "\n",
    "    return result;"
   ]
  },
  {
   "cell_type": "code",
   "execution_count": 3,
   "metadata": {},
   "outputs": [],
   "source": [
    "df = pd.concat(\n",
    "    [extract_games(league_season) for league_season in league_seasons])\n",
    "\n",
    "df = df.reset_index(drop=True)"
   ]
  },
  {
   "attachments": {},
   "cell_type": "markdown",
   "metadata": {},
   "source": [
    "The stats' URL has a  subdirectory of 'stats' which should be inserted before id:\n",
    "\"https://www.skysports.com/football/espanyol-vs-sevilla/244855\" should become:\n",
    "\"https://www.skysports.com/football/espanyol-vs-sevilla/stats/244855\""
   ]
  },
  {
   "cell_type": "code",
   "execution_count": 4,
   "metadata": {},
   "outputs": [],
   "source": [
    "import re\n",
    "\n",
    "# This function returns the stats' URL of a given match's URL\n",
    "def get_stats_url(link):\n",
    "    id_pos = re.search(r\"\\d*$\", link).start()\n",
    "    return f\"{link[:id_pos]}stats/{link[id_pos:]}\"\n",
    "\n",
    "# Going through each link and extracting the stats' link\n",
    "df['stats_link'] = df['link'].apply(\n",
    "    lambda link: get_stats_url(link)\n",
    ")"
   ]
  },
  {
   "attachments": {},
   "cell_type": "markdown",
   "metadata": {},
   "source": [
    "Adding columns for match stats:"
   ]
  },
  {
   "cell_type": "code",
   "execution_count": 5,
   "metadata": {},
   "outputs": [],
   "source": [
    "df.to_csv(\"./initial_ds/match_stat_links.csv\", index=False)"
   ]
  }
 ],
 "metadata": {
  "kernelspec": {
   "display_name": "Python 3",
   "language": "python",
   "name": "python3"
  },
  "language_info": {
   "codemirror_mode": {
    "name": "ipython",
    "version": 3
   },
   "file_extension": ".py",
   "mimetype": "text/x-python",
   "name": "python",
   "nbconvert_exporter": "python",
   "pygments_lexer": "ipython3",
   "version": "3.10.9"
  },
  "orig_nbformat": 4
 },
 "nbformat": 4,
 "nbformat_minor": 2
}
