{
 "cells": [
  {
   "attachments": {},
   "cell_type": "markdown",
   "metadata": {},
   "source": [
    "All data downloaded from https://www.skysports.com/"
   ]
  },
  {
   "cell_type": "code",
   "execution_count": 1,
   "metadata": {},
   "outputs": [],
   "source": [
    "league_seasons = [f\"{2000+year}-{year+1}\" for year in range(17, 23)]"
   ]
  },
  {
   "cell_type": "code",
   "execution_count": 2,
   "metadata": {},
   "outputs": [
    {
     "name": "stderr",
     "output_type": "stream",
     "text": [
      "[WDM] - Downloading: 100%|██████████| 6.80M/6.80M [00:07<00:00, 996kB/s] \n"
     ]
    }
   ],
   "source": [
    "import pandas as pd\n",
    "from bs4 import BeautifulSoup\n",
    "from selenium import webdriver\n",
    "from selenium.webdriver.chrome.service import Service\n",
    "from webdriver_manager.chrome import ChromeDriverManager\n",
    "from selenium.webdriver.common.by import By\n",
    "from selenium.webdriver.support.wait import WebDriverWait\n",
    "from selenium.webdriver.support import expected_conditions as EC\n",
    "\n",
    "# Initiating a new Google Chrome window\n",
    "driver = webdriver.Chrome(service=Service(ChromeDriverManager().install()))\n",
    "\n",
    "# The function below extracts the games of any given season of La Liga and\n",
    "# returns the output in the form of a dataframe\n",
    "def extract_games(league_season):\n",
    "    # The URL is shapes in the form of\n",
    "    # https://www.skysports.com/la-liga-results/2011-12\n",
    "    url = f\"https://www.skysports.com/la-liga-results/{league_season}\"\n",
    "    \n",
    "    # Retrieving the URL in the Chrome window\n",
    "    driver.get(url)\n",
    "    \n",
    "    # When the page loads, the table's empty and is later filled by AJAX calls.\n",
    "    # So, we wait until there is an element by the id of for instance\n",
    "    # \"widgetLite-5\" available on the page before proceeding to\n",
    "    # extract the table.\n",
    "    # The availability of the said element shows that the table is fully loaded\n",
    "    # and filled.\n",
    "    element = WebDriverWait(driver, 20).until(\n",
    "        EC.presence_of_element_located((By.ID, 'widgetLite-10'))\n",
    "    )\n",
    "\n",
    "    # These are elements initially displayed on the page\n",
    "    visible_elements = BeautifulSoup(driver.page_source, 'lxml')\n",
    "\n",
    "    # These are elements that are hidden inside a script for the \"show more\" button\n",
    "    hidden_elements = BeautifulSoup(\n",
    "        driver.find_element(By.CSS_SELECTOR, 'script[data-role=\"load-more-content\"]').get_attribute('innerHTML'),\n",
    "        'lxml')\n",
    "    \n",
    "    # Listing all the 'DIV' tags each containing the data for a single match\n",
    "    all_match_divs = (visible_elements.findAll('div', attrs={\"class\": 'fixres__item'}) +\n",
    "                   hidden_elements.find_all('div', attrs={\"class\": 'fixres__item'}))\n",
    "    \n",
    "    # Going through all the matches and extracting each one's info\n",
    "    last_date = ''\n",
    "    all_matches = []\n",
    "    for match_div in all_match_divs:\n",
    "        # The link to the match's specific webpage\n",
    "        stats_link = match_div.find('a').get('href')\n",
    "        \n",
    "        # The names of the two teams\n",
    "        team_names = [team.text for team in match_div.findAll('span', attrs={\"class\": 'swap-text__target'})]\n",
    "        \n",
    "        # If the previous sibling of the current 'DIV' element (single match) is an 'h4' element, get the\n",
    "        # date of the match from it, otherwise the date of the match is the same as the previous match.\n",
    "        if match_div.previous_sibling is None:\n",
    "            match_date = last_date\n",
    "        else:\n",
    "            previous_element = match_div.previous_sibling.previous_sibling\n",
    "            if previous_element.name == 'h4':\n",
    "                match_date = previous_element.text \n",
    "                last_date = match_date\n",
    "            else:\n",
    "                match_date = last_date\n",
    "        \n",
    "        # Appending the data of the current match to the list of all matches\n",
    "        all_matches.append([\n",
    "            league_season,\n",
    "            match_date,\n",
    "            team_names[0],\n",
    "            team_names[1],\n",
    "            stats_link\n",
    "        ])\n",
    "\n",
    "    result = pd.DataFrame(all_matches, columns=[\n",
    "        'season',\n",
    "        'date',\n",
    "        'home',\n",
    "        'away',\n",
    "        'link'])\n",
    "\n",
    "    return result;"
   ]
  },
  {
   "cell_type": "code",
   "execution_count": 3,
   "metadata": {},
   "outputs": [
    {
     "ename": "TimeoutException",
     "evalue": "Message: \nStacktrace:\nBacktrace:\n\tGetHandleVerifier [0x0120DCE3+50899]\n\t(No symbol) [0x0119E111]\n\t(No symbol) [0x010A5588]\n\t(No symbol) [0x010D08F9]\n\t(No symbol) [0x010D0AFB]\n\t(No symbol) [0x010FF902]\n\t(No symbol) [0x010EB944]\n\t(No symbol) [0x010FE01C]\n\t(No symbol) [0x010EB6F6]\n\t(No symbol) [0x010C7708]\n\t(No symbol) [0x010C886D]\n\tGetHandleVerifier [0x01473EAE+2566302]\n\tGetHandleVerifier [0x014A92B1+2784417]\n\tGetHandleVerifier [0x014A327C+2759788]\n\tGetHandleVerifier [0x012A5740+672048]\n\t(No symbol) [0x011A8872]\n\t(No symbol) [0x011A41C8]\n\t(No symbol) [0x011A42AB]\n\t(No symbol) [0x011971B7]\n\tBaseThreadInitThunk [0x75F87D49+25]\n\tRtlInitializeExceptionChain [0x7708B74B+107]\n\tRtlClearBits [0x7708B6CF+191]\n",
     "output_type": "error",
     "traceback": [
      "\u001b[1;31m---------------------------------------------------------------------------\u001b[0m",
      "\u001b[1;31mTimeoutException\u001b[0m                          Traceback (most recent call last)",
      "Cell \u001b[1;32mIn[3], line 2\u001b[0m\n\u001b[0;32m      1\u001b[0m df \u001b[39m=\u001b[39m pd\u001b[39m.\u001b[39mconcat(\n\u001b[1;32m----> 2\u001b[0m     [extract_games(league_season) \u001b[39mfor\u001b[39;00m league_season \u001b[39min\u001b[39;00m league_seasons])\n\u001b[0;32m      4\u001b[0m df \u001b[39m=\u001b[39m df\u001b[39m.\u001b[39mreset_index(drop\u001b[39m=\u001b[39m\u001b[39mTrue\u001b[39;00m)\n",
      "Cell \u001b[1;32mIn[3], line 2\u001b[0m, in \u001b[0;36m<listcomp>\u001b[1;34m(.0)\u001b[0m\n\u001b[0;32m      1\u001b[0m df \u001b[39m=\u001b[39m pd\u001b[39m.\u001b[39mconcat(\n\u001b[1;32m----> 2\u001b[0m     [extract_games(league_season) \u001b[39mfor\u001b[39;00m league_season \u001b[39min\u001b[39;00m league_seasons])\n\u001b[0;32m      4\u001b[0m df \u001b[39m=\u001b[39m df\u001b[39m.\u001b[39mreset_index(drop\u001b[39m=\u001b[39m\u001b[39mTrue\u001b[39;00m)\n",
      "Cell \u001b[1;32mIn[2], line 29\u001b[0m, in \u001b[0;36mextract_games\u001b[1;34m(league_season)\u001b[0m\n\u001b[0;32m     21\u001b[0m driver\u001b[39m.\u001b[39mget(url)\n\u001b[0;32m     23\u001b[0m \u001b[39m# When the page loads, the table's empty and is later filled by AJAX calls.\u001b[39;00m\n\u001b[0;32m     24\u001b[0m \u001b[39m# So, we wait until there is an element by the id of for instance\u001b[39;00m\n\u001b[0;32m     25\u001b[0m \u001b[39m# \"widgetLite-5\" available on the page before proceeding to\u001b[39;00m\n\u001b[0;32m     26\u001b[0m \u001b[39m# extract the table.\u001b[39;00m\n\u001b[0;32m     27\u001b[0m \u001b[39m# The availability of the said element shows that the table is fully loaded\u001b[39;00m\n\u001b[0;32m     28\u001b[0m \u001b[39m# and filled.\u001b[39;00m\n\u001b[1;32m---> 29\u001b[0m element \u001b[39m=\u001b[39m WebDriverWait(driver, \u001b[39m20\u001b[39;49m)\u001b[39m.\u001b[39;49muntil(\n\u001b[0;32m     30\u001b[0m     EC\u001b[39m.\u001b[39;49mpresence_of_element_located((By\u001b[39m.\u001b[39;49mID, \u001b[39m'\u001b[39;49m\u001b[39mwidgetLite-10\u001b[39;49m\u001b[39m'\u001b[39;49m))\n\u001b[0;32m     31\u001b[0m )\n\u001b[0;32m     33\u001b[0m \u001b[39m# These are elements initially displayed on the page\u001b[39;00m\n\u001b[0;32m     34\u001b[0m visible_elements \u001b[39m=\u001b[39m BeautifulSoup(driver\u001b[39m.\u001b[39mpage_source, \u001b[39m'\u001b[39m\u001b[39mlxml\u001b[39m\u001b[39m'\u001b[39m)\n",
      "File \u001b[1;32mc:\\Users\\Babak\\AppData\\Local\\Programs\\Python\\Python310\\lib\\site-packages\\selenium\\webdriver\\support\\wait.py:95\u001b[0m, in \u001b[0;36mWebDriverWait.until\u001b[1;34m(self, method, message)\u001b[0m\n\u001b[0;32m     93\u001b[0m     \u001b[39mif\u001b[39;00m time\u001b[39m.\u001b[39mmonotonic() \u001b[39m>\u001b[39m end_time:\n\u001b[0;32m     94\u001b[0m         \u001b[39mbreak\u001b[39;00m\n\u001b[1;32m---> 95\u001b[0m \u001b[39mraise\u001b[39;00m TimeoutException(message, screen, stacktrace)\n",
      "\u001b[1;31mTimeoutException\u001b[0m: Message: \nStacktrace:\nBacktrace:\n\tGetHandleVerifier [0x0120DCE3+50899]\n\t(No symbol) [0x0119E111]\n\t(No symbol) [0x010A5588]\n\t(No symbol) [0x010D08F9]\n\t(No symbol) [0x010D0AFB]\n\t(No symbol) [0x010FF902]\n\t(No symbol) [0x010EB944]\n\t(No symbol) [0x010FE01C]\n\t(No symbol) [0x010EB6F6]\n\t(No symbol) [0x010C7708]\n\t(No symbol) [0x010C886D]\n\tGetHandleVerifier [0x01473EAE+2566302]\n\tGetHandleVerifier [0x014A92B1+2784417]\n\tGetHandleVerifier [0x014A327C+2759788]\n\tGetHandleVerifier [0x012A5740+672048]\n\t(No symbol) [0x011A8872]\n\t(No symbol) [0x011A41C8]\n\t(No symbol) [0x011A42AB]\n\t(No symbol) [0x011971B7]\n\tBaseThreadInitThunk [0x75F87D49+25]\n\tRtlInitializeExceptionChain [0x7708B74B+107]\n\tRtlClearBits [0x7708B6CF+191]\n"
     ]
    }
   ],
   "source": [
    "df = pd.concat(\n",
    "    [extract_games(league_season) for league_season in league_seasons])\n",
    "\n",
    "df = df.reset_index(drop=True)"
   ]
  },
  {
   "attachments": {},
   "cell_type": "markdown",
   "metadata": {},
   "source": [
    "The stats' URL has a  subdirectory of 'stats' which should be inserted before id:\n",
    "\"https://www.skysports.com/football/espanyol-vs-sevilla/244855\" should become:\n",
    "\"https://www.skysports.com/football/espanyol-vs-sevilla/stats/244855\""
   ]
  },
  {
   "cell_type": "code",
   "execution_count": null,
   "metadata": {},
   "outputs": [],
   "source": [
    "import re\n",
    "\n",
    "# This function returns the stats' URL of a given match's URL\n",
    "def get_stats_url(link):\n",
    "    id_pos = re.search(r\"\\d*$\", link).start()\n",
    "    return f\"{link[:id_pos]}stats/{link[id_pos:]}\"\n",
    "\n",
    "# Going through each link and extracting the stats' link\n",
    "df['stats_link'] = df['link'].apply(\n",
    "    lambda link: get_stats_url(link)\n",
    ")"
   ]
  },
  {
   "attachments": {},
   "cell_type": "markdown",
   "metadata": {},
   "source": [
    "Adding columns for match stats:"
   ]
  },
  {
   "cell_type": "code",
   "execution_count": null,
   "metadata": {},
   "outputs": [],
   "source": [
    "df.to_csv(\"./initial_ds/match_stat_links.csv\", index=False)"
   ]
  }
 ],
 "metadata": {
  "kernelspec": {
   "display_name": "Python 3",
   "language": "python",
   "name": "python3"
  },
  "language_info": {
   "codemirror_mode": {
    "name": "ipython",
    "version": 3
   },
   "file_extension": ".py",
   "mimetype": "text/x-python",
   "name": "python",
   "nbconvert_exporter": "python",
   "pygments_lexer": "ipython3",
   "version": "3.10.9"
  },
  "orig_nbformat": 4
 },
 "nbformat": 4,
 "nbformat_minor": 2
}
