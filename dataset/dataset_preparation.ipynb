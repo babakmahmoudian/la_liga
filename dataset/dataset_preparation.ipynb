{
 "cells": [
  {
   "cell_type": "code",
   "execution_count": 2,
   "metadata": {},
   "outputs": [],
   "source": [
    "import pandas as pd"
   ]
  },
  {
   "cell_type": "code",
   "execution_count": 3,
   "metadata": {},
   "outputs": [],
   "source": [
    "df_matches = pd.read_csv(\"./matches/processed_ds/matches.csv\", parse_dates=['date'])\n",
    "df_ratings = pd.read_csv(\"./ratings/dataset/ratings.csv\")\n",
    "df_xg = pd.read_csv(\"./xg/processed_ds/xg.csv\")\n",
    "df_stats = pd.read_csv(\"./match_stats/processed_ds/match_stats.csv\")"
   ]
  },
  {
   "attachments": {},
   "cell_type": "markdown",
   "metadata": {},
   "source": [
    "# Making the team names consitent across the datasets"
   ]
  },
  {
   "cell_type": "code",
   "execution_count": 4,
   "metadata": {},
   "outputs": [
    {
     "data": {
      "text/plain": [
       "Real Sociedad          214\n",
       "Atletico Madrid        214\n",
       "Getafe                 214\n",
       "Villarreal             213\n",
       "Athletic Bilbao        213\n",
       "Valencia               213\n",
       "Barcelona              213\n",
       "Sevilla                212\n",
       "Real Madrid            212\n",
       "Celta Vigo             211\n",
       "Real Betis             209\n",
       "Levante                190\n",
       "Alaves                 190\n",
       "Espanyol               174\n",
       "Eibar                  152\n",
       "Real Valladolid        137\n",
       "Osasuna                137\n",
       "Granada                114\n",
       "Leganes                113\n",
       "Girona                  99\n",
       "Elche                   99\n",
       "Real Mallorca           99\n",
       "Rayo Vallecano          99\n",
       "Cadiz                   99\n",
       "SD Huesca               76\n",
       "Deportivo La Coruna     38\n",
       "Malaga                  38\n",
       "Las Palmas              38\n",
       "Almeria                 24\n",
       "Name: value, dtype: int64"
      ]
     },
     "execution_count": 4,
     "metadata": {},
     "output_type": "execute_result"
    }
   ],
   "source": [
    "pd.melt(frame=df_stats, id_vars='date', value_vars=['home', 'away'])['value'].value_counts()"
   ]
  }
 ],
 "metadata": {
  "kernelspec": {
   "display_name": "Python 3",
   "language": "python",
   "name": "python3"
  },
  "language_info": {
   "codemirror_mode": {
    "name": "ipython",
    "version": 3
   },
   "file_extension": ".py",
   "mimetype": "text/x-python",
   "name": "python",
   "nbconvert_exporter": "python",
   "pygments_lexer": "ipython3",
   "version": "3.10.9"
  },
  "orig_nbformat": 4
 },
 "nbformat": 4,
 "nbformat_minor": 2
}
