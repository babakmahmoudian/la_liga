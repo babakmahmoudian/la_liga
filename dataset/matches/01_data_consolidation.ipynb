{
 "cells": [
  {
   "cell_type": "markdown",
   "id": "90f8f476-8b96-4202-a703-35cf5ec31fa3",
   "metadata": {},
   "source": [
    "All data downloaded from https://www.football-data.co.uk/spainm.php"
   ]
  },
  {
   "cell_type": "code",
   "execution_count": 106,
   "id": "1f0059f8-96e0-4a3d-8819-f65492287ac0",
   "metadata": {},
   "outputs": [],
   "source": [
    "import numpy as np\n",
    "import pandas as pd"
   ]
  },
  {
   "cell_type": "code",
   "execution_count": 107,
   "id": "5380469c-b0ca-4390-9e0e-57121bf260b0",
   "metadata": {},
   "outputs": [],
   "source": [
    "league_name = 'primera'\n",
    "league_years = [f\"{year}_{year+1}\" for year in range(2011, 2023)]"
   ]
  },
  {
   "attachments": {},
   "cell_type": "markdown",
   "id": "e7d12778",
   "metadata": {},
   "source": [
    "# Reading the dataset files\n",
    "Reading all the data from files into separate dataframes; which will later be consolidated into a single one."
   ]
  },
  {
   "cell_type": "code",
   "execution_count": 108,
   "id": "9adb0464-f019-483e-a5c4-6ac084044d5e",
   "metadata": {},
   "outputs": [],
   "source": [
    "# This dictionary will hold every single separate dataframe\n",
    "df_list = dict()\n",
    "\n",
    "# Going through all the files for each league division\n",
    "for league_year in league_years:\n",
    "    dataset_file = f\"./initial_ds/{league_name}_{league_year}.csv\"\n",
    "    # Reading the league's data from the file\n",
    "    cur_df = pd.read_csv(dataset_file)\n",
    "    # Removing the rows which contain only Null values\n",
    "    cur_df = cur_df.dropna(axis='index', how=\"all\")\n",
    "    # Removing the columns which contain only Null values\n",
    "    cur_df = cur_df.dropna(axis=\"columns\", how='all')\n",
    "    # Adding the season as a new column\n",
    "    cur_df.insert(1, 'season', league_year, True)\n",
    "    df_list[league_year] = cur_df"
   ]
  },
  {
   "attachments": {},
   "cell_type": "markdown",
   "id": "097c3e18",
   "metadata": {},
   "source": [
    "# Merging the dataframes"
   ]
  },
  {
   "attachments": {},
   "cell_type": "markdown",
   "id": "47f86e59",
   "metadata": {},
   "source": [
    "Getting the accululated list of all the columns available in all dataframes:"
   ]
  },
  {
   "cell_type": "code",
   "execution_count": 109,
   "id": "6cf318df",
   "metadata": {},
   "outputs": [],
   "source": [
    "all_cols = dict()\n",
    "for df_name, df_table in df_list.items():\n",
    "    for col in df_table.columns:\n",
    "        all_cols[col] = all_cols[col] + [df_name] if col in all_cols.keys() else [df_name]\n",
    "\n",
    "all_cols = dict(sorted(all_cols.items(), key=lambda item: len(item[1]), reverse=True))        "
   ]
  },
  {
   "attachments": {},
   "cell_type": "markdown",
   "id": "2b4c8036",
   "metadata": {},
   "source": [
    "Merging all the separate dataframes into a single one"
   ]
  },
  {
   "cell_type": "code",
   "execution_count": 110,
   "id": "61ab83be",
   "metadata": {},
   "outputs": [],
   "source": [
    "df = pd.DataFrame(columns=all_cols.keys())\n",
    "for df_season in df_list.values():\n",
    "    df = pd.concat([df, df_season], axis=0)  "
   ]
  },
  {
   "attachments": {},
   "cell_type": "markdown",
   "id": "03d21e78",
   "metadata": {},
   "source": [
    "# Cleaning up"
   ]
  },
  {
   "attachments": {},
   "cell_type": "markdown",
   "id": "cc950fbc",
   "metadata": {},
   "source": [
    "Getting the list of the columns that are present in all of the recent seasons:"
   ]
  },
  {
   "cell_type": "code",
   "execution_count": 111,
   "id": "df8bf6cd",
   "metadata": {},
   "outputs": [],
   "source": [
    "main_cols = []\n",
    "\n",
    "for col, seasons in all_cols.items():\n",
    "    if all([season in seasons for season in league_years]):\n",
    "        main_cols.append(col)"
   ]
  },
  {
   "attachments": {},
   "cell_type": "markdown",
   "id": "63917d38",
   "metadata": {},
   "source": [
    "Dropping all other columns:"
   ]
  },
  {
   "cell_type": "code",
   "execution_count": 112,
   "id": "3d5ed6ee",
   "metadata": {},
   "outputs": [],
   "source": [
    "df = df[main_cols]"
   ]
  },
  {
   "attachments": {},
   "cell_type": "markdown",
   "id": "0165afd1",
   "metadata": {},
   "source": [
    "# Renaming the columns"
   ]
  },
  {
   "cell_type": "code",
   "execution_count": 113,
   "id": "093020c3",
   "metadata": {},
   "outputs": [],
   "source": [
    "df = df.rename(columns={\n",
    "    'Div': 'division',\n",
    "    'Date': 'date',\n",
    "    'HomeTeam': 'home', \n",
    "    'AwayTeam': 'away',\n",
    "    'FTHG': 'fulltime_home_goals',\n",
    "    'FTAG': 'fulltime_away_goals',\n",
    "    'FTR': 'fulltime_result',\n",
    "    'HTHG': 'halftime_home_goals',\n",
    "    'HTAG': 'halftime_away_goals',\n",
    "    'HTR': 'halftime_result',\n",
    "    'HS': 'home_total_shots',\n",
    "    'AS': 'away_total_shots',\n",
    "    'HST': 'home_shots_on_target',\n",
    "    'AST': 'away_shots_on_target',\n",
    "    'HF': 'home_fouls_committed',\n",
    "    'AF': 'away_fouls_committed',\n",
    "    'HC': 'home_corners',\n",
    "    'AC': 'away_corners',\n",
    "    'HY': 'home_yellow_cards',\n",
    "    'AY': 'away_yellow_cards',\n",
    "    'HR': 'home_red_cards',\n",
    "    'AR': 'away_red_cards',\n",
    "    'B365H': 'bet365_home_win_odds',\n",
    "    'B365D': 'bet365_draw_odds',\n",
    "    'B365A': 'bet365_away_win_odds',\n",
    "    'BWH': 'betandwin_home_win_odds',\n",
    "    'BWD': 'betandwin_draw_odds',\n",
    "    'BWA': 'betandwin_away_win_odds',\n",
    "    'IWH': 'interwetten_home_win_odds',\n",
    "    'IWD': 'interwetten_draw_odds',\n",
    "    'IWA': 'interwetten_away_win_odds',\n",
    "    'WHH': 'williamhill_home_win_odds',\n",
    "    'WHD': 'williamhill_draw_odds',\n",
    "    'WHA': 'williamhill_away_win_odds',\n",
    "    'VCH': 'vcbet_home_win_odds',\n",
    "    'VCD': 'vcbet_draw_odds',\n",
    "    'VCA': 'vcbet_away_win_odds',\n",
    "})"
   ]
  },
  {
   "attachments": {},
   "cell_type": "markdown",
   "id": "2bbc11e6",
   "metadata": {},
   "source": [
    "# Saving the consolidated dataset into file"
   ]
  },
  {
   "cell_type": "code",
   "execution_count": 114,
   "id": "3b5d2318",
   "metadata": {},
   "outputs": [],
   "source": [
    "df.to_csv(\"./initial_ds/matches.csv\", index=False)"
   ]
  }
 ],
 "metadata": {
  "kernelspec": {
   "display_name": "Python 3",
   "language": "python",
   "name": "python3"
  },
  "language_info": {
   "codemirror_mode": {
    "name": "ipython",
    "version": 3
   },
   "file_extension": ".py",
   "mimetype": "text/x-python",
   "name": "python",
   "nbconvert_exporter": "python",
   "pygments_lexer": "ipython3",
   "version": "3.10.9"
  },
  "vscode": {
   "interpreter": {
    "hash": "83d208b031a4a5a0824f5f0b47c0388aa3b94cdd004c2f68e4341ab470ede466"
   }
  }
 },
 "nbformat": 4,
 "nbformat_minor": 5
}
