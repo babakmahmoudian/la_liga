{
 "cells": [
  {
   "cell_type": "code",
   "execution_count": 2,
   "metadata": {},
   "outputs": [],
   "source": [
    "import pandas as pd"
   ]
  },
  {
   "cell_type": "code",
   "execution_count": 3,
   "metadata": {},
   "outputs": [],
   "source": [
    "df = pd.read_csv('./initial_ds/matches.csv')"
   ]
  },
  {
   "attachments": {},
   "cell_type": "markdown",
   "metadata": {},
   "source": [
    "# Data cleanup"
   ]
  },
  {
   "attachments": {},
   "cell_type": "markdown",
   "metadata": {},
   "source": [
    "## Correcting the dates\n",
    "The dates are currently of type string (object). They need to be converted into DateTime.<br>\n",
    "However, before doing that, some values must be tweaked to conform to conventional date formats.<br>\n",
    "For instance:\n",
    "<ul>\n",
    "    <li>'%d/%m/99' must be converted to '%d/%m/1999'</li>\n",
    "    <li>'%d/%m/00' must be converted to '%d/%m/2000'</li>\n",
    "    <li>'%d/%m/01' must be converted to '%d/%m/2001'</li>\n",
    "    <li>...</li>\n",
    "</ul>"
   ]
  },
  {
   "cell_type": "code",
   "execution_count": 4,
   "metadata": {},
   "outputs": [],
   "source": [
    "# Setting the required corrections in terms of RegEx\n",
    "replacements = {\n",
    "        r\"/99$\": \"/1999\",\n",
    "    }\n",
    "replacements.update((f\"/{str(y).zfill(2)}$\", f\"/{2000 + y}\") for y in range(24))\n",
    "# Fixing the inconsistencies in the date columns\n",
    "df['Date'] = df['Date'].replace(replacements, regex=True)\n",
    "# Converting the date column from object to DateTime64\n",
    "df['Date'] = pd.to_datetime(df['Date'], format='%d/%m/%Y')"
   ]
  },
  {
   "attachments": {},
   "cell_type": "markdown",
   "metadata": {},
   "source": [
    "## Making team names consistent"
   ]
  },
  {
   "cell_type": "code",
   "execution_count": 5,
   "metadata": {},
   "outputs": [
    {
     "data": {
      "text/plain": [
       "Index(['Div', 'Date', 'HomeTeam', 'AwayTeam', 'HTHG', 'HTAG', 'HTR', 'HS',\n",
       "       'AS', 'HST', 'AST', 'HF', 'AF', 'HC', 'AC', 'HY', 'AY', 'HR', 'AR',\n",
       "       'Time'],\n",
       "      dtype='object')"
      ]
     },
     "execution_count": 5,
     "metadata": {},
     "output_type": "execute_result"
    }
   ],
   "source": [
    "df.columns"
   ]
  },
  {
   "cell_type": "code",
   "execution_count": 11,
   "metadata": {},
   "outputs": [
    {
     "data": {
      "text/plain": [
       "Ath Bilbao     449\n",
       "Valencia       449\n",
       "Barcelona      448\n",
       "Real Madrid    448\n",
       "Espanol        430\n",
       "Sevilla        430\n",
       "Ath Madrid     410\n",
       "Villarreal     410\n",
       "Sociedad       391\n",
       "Betis          372\n",
       "Osasuna        353\n",
       "Celta          335\n",
       "Getafe         335\n",
       "La Coruna      323\n",
       "Malaga         323\n",
       "Mallorca       315\n",
       "Levante        266\n",
       "Valladolid     258\n",
       "Santander      228\n",
       "Zaragoza       228\n",
       "Vallecano      220\n",
       "Alaves         209\n",
       "Granada        171\n",
       "Eibar          133\n",
       "Almeria        126\n",
       "Sp Gijon       114\n",
       "Las Palmas      95\n",
       "Elche           88\n",
       "Recreativo      76\n",
       "Leganes         76\n",
       "Numancia        76\n",
       "Cadiz           69\n",
       "Girona          50\n",
       "Murcia          38\n",
       "Oviedo          38\n",
       "Albacete        38\n",
       "Tenerife        38\n",
       "Huesca          38\n",
       "Hercules        19\n",
       "Xerez           19\n",
       "Gimnastic       19\n",
       "Cordoba         19\n",
       "Name: HomeTeam, dtype: int64"
      ]
     },
     "execution_count": 11,
     "metadata": {},
     "output_type": "execute_result"
    }
   ],
   "source": [
    "df[df['Div'] == 'primera']['HomeTeam'].value_counts()"
   ]
  }
 ],
 "metadata": {
  "kernelspec": {
   "display_name": "Python 3",
   "language": "python",
   "name": "python3"
  },
  "language_info": {
   "codemirror_mode": {
    "name": "ipython",
    "version": 3
   },
   "file_extension": ".py",
   "mimetype": "text/x-python",
   "name": "python",
   "nbconvert_exporter": "python",
   "pygments_lexer": "ipython3",
   "version": "3.10.9"
  },
  "orig_nbformat": 4,
  "vscode": {
   "interpreter": {
    "hash": "83d208b031a4a5a0824f5f0b47c0388aa3b94cdd004c2f68e4341ab470ede466"
   }
  }
 },
 "nbformat": 4,
 "nbformat_minor": 2
}
