{
 "cells": [
  {
   "cell_type": "markdown",
   "id": "90f8f476-8b96-4202-a703-35cf5ec31fa3",
   "metadata": {},
   "source": [
    "All data downloaded from https://www.football-data.co.uk/spainm.php"
   ]
  },
  {
   "cell_type": "code",
   "execution_count": 10,
   "id": "1f0059f8-96e0-4a3d-8819-f65492287ac0",
   "metadata": {},
   "outputs": [],
   "source": [
    "import numpy as np\n",
    "import pandas as pd\n",
    "import re"
   ]
  },
  {
   "cell_type": "code",
   "execution_count": 11,
   "id": "5380469c-b0ca-4390-9e0e-57121bf260b0",
   "metadata": {},
   "outputs": [],
   "source": [
    "league_name = 'primera'\n",
    "league_years = [f\"{year}_{year+1}\" for year in range(1999, 2023)]\n",
    "\n",
    "match_result_cols = [\n",
    "    'Div', # League Division\n",
    "    'Date', # Match Date (dd/mm/yy)\n",
    "    'Time', # Time of match kick off\n",
    "    'HomeTeam', # Home Team\n",
    "    'AwayTeam', # Away Team\n",
    "    'FTHG and HG', # Full Time Home Team Goals\n",
    "    'FTAG and AG', # Full Time Away Team Goals\n",
    "    'FTR and Res', # Full Time Result (H=Home Win, D=Draw, A=Away Win)\n",
    "    'HTHG', # Half Time Home Team Goals\n",
    "    'HTAG', # Half Time Away Team Goals\n",
    "    'HTR', # Half Time Result (H=Home Win, D=Draw, A=Away Win)\n",
    "]\n",
    "\n",
    "match_stats_cols = [\n",
    "    'Attendance', # Crowd Attendance\n",
    "    'Referee', # Match Referee\n",
    "    'HS', # Home Team Shots\n",
    "    'AS', # Away Team Shots\n",
    "    'HST', # Home Team Shots on Target\n",
    "    'AST', # Away Team Shots on Target\n",
    "    'HHW', # Home Team Hit Woodwork\n",
    "    'AHW', # Away Team Hit Woodwork\n",
    "    'HC', # Home Team Corners\n",
    "    'AC', # Away Team Corners\n",
    "    'HF', # Home Team Fouls Committed\n",
    "    'AF', # Away Team Fouls Committed\n",
    "    'HFKC', # Home Team Free Kicks Conceded\n",
    "    'AFKC', # Away Team Free Kicks Conceded\n",
    "    'HO', # Home Team Offsides\n",
    "    'AO', # Away Team Offsides\n",
    "    'HY', # Home Team Yellow Cards\n",
    "    'AY', # Away Team Yellow Cards\n",
    "    'HR', # Home Team Red Cards\n",
    "    'AR', # Away Team Red Cards\n",
    "    'HBP', # Home Team Bookings Points (10', # yellow, 25', # red)\n",
    "    'ABP', # Away Team Bookings Points (10', # yellow, 25', # red)\n",
    "]"
   ]
  },
  {
   "attachments": {},
   "cell_type": "markdown",
   "id": "e7d12778",
   "metadata": {},
   "source": [
    "Reading all the data from files into separate dataframes; which will later be consolidated into a single one."
   ]
  },
  {
   "cell_type": "code",
   "execution_count": 12,
   "id": "9adb0464-f019-483e-a5c4-6ac084044d5e",
   "metadata": {},
   "outputs": [
    {
     "name": "stdout",
     "output_type": "stream",
     "text": [
      "24 dataframes were read.\n"
     ]
    },
    {
     "data": {
      "text/plain": [
       "dict_keys(['1999_2000', '2000_2001', '2001_2002', '2002_2003', '2003_2004', '2004_2005', '2005_2006', '2006_2007', '2007_2008', '2008_2009', '2009_2010', '2010_2011', '2011_2012', '2012_2013', '2013_2014', '2014_2015', '2015_2016', '2016_2017', '2017_2018', '2018_2019', '2019_2020', '2020_2021', '2021_2022', '2022_2023'])"
      ]
     },
     "execution_count": 12,
     "metadata": {},
     "output_type": "execute_result"
    }
   ],
   "source": [
    "# This dictionary will hold every single separate dataframe\n",
    "df_list = dict()\n",
    "\n",
    "# Going through all the files for each league division\n",
    "for league_year in league_years:\n",
    "    dataset_file = f\"./initial_ds/{league_name}_{league_year}.csv\"\n",
    "    # Reading the league's data from the file\n",
    "    cur_df = pd.read_csv(dataset_file)\n",
    "    # Removing the columns corresponding to betting odds\n",
    "    cur_df = cur_df[[col for col in cur_df if col in match_result_cols+match_stats_cols]]\n",
    "    # Removing the rows which contain only Null values\n",
    "    cur_df = cur_df.dropna(axis='index', how=\"all\")\n",
    "    # Removing the columns which contain only Null values\n",
    "    cur_df = cur_df.dropna(axis=\"columns\", how='all')\n",
    "    df_list[league_year] = cur_df\n",
    "        \n",
    "print(f\"{len(df_list)} dataframes were read.\")\n",
    "\n",
    "df_list.keys()"
   ]
  },
  {
   "attachments": {},
   "cell_type": "markdown",
   "id": "30591987",
   "metadata": {},
   "source": [
    "All columns available in one year are also available in the next:"
   ]
  },
  {
   "cell_type": "code",
   "execution_count": 13,
   "id": "14d8544f",
   "metadata": {},
   "outputs": [],
   "source": [
    "# Comparing the dataframe for each season with the next season and printing the list of the columns that\n",
    "# are available in the older season and unavailable in the newer\n",
    "for i in range(len(league_years) - 1):\n",
    "    cur_league = f\"{league_years[i]}\"\n",
    "    next_league = f\"{league_years[i+1]}\"\n",
    "    unmatched_cols = [col for col in df_list[cur_league].columns if col not in df_list[next_league].columns]\n",
    "    if unmatched_cols:\n",
    "        print(f\"columns in {cur_league} and unavailable in {next_league}:\\n{unmatched_cols}\\n\")"
   ]
  },
  {
   "attachments": {},
   "cell_type": "markdown",
   "id": "184b4b17",
   "metadata": {},
   "source": [
    "So the dataframes can be merged into a single one with the columns corresponding to the most recent one:"
   ]
  },
  {
   "cell_type": "code",
   "execution_count": 15,
   "id": "613c1069",
   "metadata": {},
   "outputs": [],
   "source": [
    "# Merging all the dataframes of different seasons of the same league together\n",
    "df = pd.concat(\n",
    "    [df_list[league] for league in df_list.keys()],\n",
    "    axis='index'\n",
    ")"
   ]
  },
  {
   "cell_type": "code",
   "execution_count": 17,
   "id": "3b5d2318",
   "metadata": {},
   "outputs": [],
   "source": [
    "df.to_csv(\"./initial_ds/matches.csv\", index=False)"
   ]
  }
 ],
 "metadata": {
  "kernelspec": {
   "display_name": "Python 3",
   "language": "python",
   "name": "python3"
  },
  "language_info": {
   "codemirror_mode": {
    "name": "ipython",
    "version": 3
   },
   "file_extension": ".py",
   "mimetype": "text/x-python",
   "name": "python",
   "nbconvert_exporter": "python",
   "pygments_lexer": "ipython3",
   "version": "3.10.9"
  },
  "vscode": {
   "interpreter": {
    "hash": "83d208b031a4a5a0824f5f0b47c0388aa3b94cdd004c2f68e4341ab470ede466"
   }
  }
 },
 "nbformat": 4,
 "nbformat_minor": 5
}
