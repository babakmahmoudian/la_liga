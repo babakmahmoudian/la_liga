{
 "cells": [
  {
   "cell_type": "markdown",
   "id": "90f8f476-8b96-4202-a703-35cf5ec31fa3",
   "metadata": {},
   "source": [
    "All data downloaded from https://www.football-data.co.uk/spainm.php"
   ]
  },
  {
   "cell_type": "code",
   "execution_count": 2,
   "id": "1f0059f8-96e0-4a3d-8819-f65492287ac0",
   "metadata": {},
   "outputs": [],
   "source": [
    "import numpy as np\n",
    "import pandas as pd"
   ]
  },
  {
   "cell_type": "code",
   "execution_count": 18,
   "id": "5380469c-b0ca-4390-9e0e-57121bf260b0",
   "metadata": {},
   "outputs": [],
   "source": [
    "league_names = ['primera', 'segunda']\n",
    "league_years = [f\"{year}_{year+1}\" for year in range(1999, 2023)]"
   ]
  },
  {
   "cell_type": "code",
   "execution_count": 21,
   "id": "9adb0464-f019-483e-a5c4-6ac084044d5e",
   "metadata": {},
   "outputs": [
    {
     "name": "stdout",
     "output_type": "stream",
     "text": [
      "48 dataframes were read.\n"
     ]
    },
    {
     "data": {
      "text/plain": [
       "dict_keys(['primera_1999_2000', 'segunda_1999_2000', 'primera_2000_2001', 'segunda_2000_2001', 'primera_2001_2002', 'segunda_2001_2002', 'primera_2002_2003', 'segunda_2002_2003', 'primera_2003_2004', 'segunda_2003_2004', 'primera_2004_2005', 'segunda_2004_2005', 'primera_2005_2006', 'segunda_2005_2006', 'primera_2006_2007', 'segunda_2006_2007', 'primera_2007_2008', 'segunda_2007_2008', 'primera_2008_2009', 'segunda_2008_2009', 'primera_2009_2010', 'segunda_2009_2010', 'primera_2010_2011', 'segunda_2010_2011', 'primera_2011_2012', 'segunda_2011_2012', 'primera_2012_2013', 'segunda_2012_2013', 'primera_2013_2014', 'segunda_2013_2014', 'primera_2014_2015', 'segunda_2014_2015', 'primera_2015_2016', 'segunda_2015_2016', 'primera_2016_2017', 'segunda_2016_2017', 'primera_2017_2018', 'segunda_2017_2018', 'primera_2018_2019', 'segunda_2018_2019', 'primera_2019_2020', 'segunda_2019_2020', 'primera_2020_2021', 'segunda_2020_2021', 'primera_2021_2022', 'segunda_2021_2022', 'primera_2022_2023', 'segunda_2022_2023'])"
      ]
     },
     "execution_count": 21,
     "metadata": {},
     "output_type": "execute_result"
    }
   ],
   "source": [
    "df_list = dict()\n",
    "for league_year in league_years:\n",
    "    for league_name in league_names:\n",
    "        cur_league = f\"{league_name}_{league_year}\"\n",
    "        df_list[cur_league] = pd.read_csv(\"./initial_ds/\" + cur_league + \".csv\")\n",
    "        \n",
    "print(f\"{len(df_list)} dataframes were read.\")\n",
    "\n",
    "df_list.keys()"
   ]
  },
  {
   "cell_type": "code",
   "execution_count": null,
   "id": "6fc77d0d-458f-4099-a527-be02260058e9",
   "metadata": {},
   "outputs": [],
   "source": []
  },
  {
   "cell_type": "code",
   "execution_count": null,
   "id": "5cf1dd9c-ca8a-42d9-befb-fd7e0911309b",
   "metadata": {},
   "outputs": [],
   "source": []
  }
 ],
 "metadata": {
  "kernelspec": {
   "display_name": "Python 3 (ipykernel)",
   "language": "python",
   "name": "python3"
  },
  "language_info": {
   "codemirror_mode": {
    "name": "ipython",
    "version": 3
   },
   "file_extension": ".py",
   "mimetype": "text/x-python",
   "name": "python",
   "nbconvert_exporter": "python",
   "pygments_lexer": "ipython3",
   "version": "3.10.9"
  }
 },
 "nbformat": 4,
 "nbformat_minor": 5
}
